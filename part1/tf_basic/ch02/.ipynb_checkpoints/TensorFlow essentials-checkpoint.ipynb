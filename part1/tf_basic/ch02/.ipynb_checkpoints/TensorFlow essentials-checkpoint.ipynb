{
 "cells": [
  {
   "cell_type": "markdown",
   "metadata": {},
   "source": [
    "## 바벨스피치 (babelspeech) Part 1 : 1회차\n",
    "### 일자 : 10/18(월), 캐글뽀개기 이상열\n",
    "\n",
    "## 2 TensorFlow essentials\n",
    "\n",
    "\n",
    "![img_02_00](./img/02_00.png)\n",
    "\n",
    "\n",
    "### This chapter covers\n",
    "    - The TensorFlow workflow\n",
    "    - Creating interactive notebooks with Jupyter\n",
    "    - Visualizing algorithms using TensorBoard\n",
    "\n",
    "- 기계학습 알고리즘을 구현하기 전에 먼저 TensorFlow를 사용하는 방법에 익숙해 지도록합시다. \n",
    "- 귀하가 귀하의 제품에 대한 판매 흐름을 추적하는 개인 사업자라고 가정하십시오. 인벤토리는 100 개의 서로 다른 항목으로 구성되며 각 항목의 가격은 가격이라는 벡터로 나타냅니다. amount라고하는 또 다른 100 차원 벡터는 각 항목의 인벤토리 수를 나타냅니다.\n",
    "- 모든 제품의 판매 수익을 계산하기 위해 목록 2.1에있는 Python 코드 조각을 작성할 수 있습니다. 이 코드는 라이브러리를 가져 오지 않습니다."
   ]
  },
  {
   "cell_type": "markdown",
   "metadata": {},
   "source": [
    "### 2.1   Ensuring TensorFlow works\n",
    "\n",
    "- 시작하기 전에 부록 A의 절차에 따라 단계별 설치 지침을 따르십시오. 첫 번째 코드에 대해 test.py라는 새 파일을 만듭니다. 다음 스크립트를 실행하여 TensorFlow를 가져옵니다.\n",
    "\n",
    "[Install Guide](https://livebook.manning.com/#!/book/machine-learning-with-tensorflow/a-installation/v-9/)\n",
    "\n",
    "### 2.2   Representing tensors\n",
    "\n",
    "- 실제 세계에서 객체를 설명하는 편리한 방법은 객체의 특성 또는 기능을 나열하는 것입니다. 예를 들어 색상, 모델, 엔진 유형, 주행 거리 등을 기준으로 자동차를 설명 할 수 있습니다. 일부 기능의 정렬 된 목록을 기능 벡터라고 부르며 TensorFlow 코드에서이 기능을 나타냅니다.\n",
    "\n",
    "- 피쳐 벡터는 단순성 때문에 기계 학습에서 가장 유용한 장치 중 하나입니다 (숫자 목록 일뿐입니다). 각 데이터 항목은 일반적으로 특징 벡터로 구성되며 좋은 데이터 세트는 수천 개는 아니더라도 수백 개의 이러한 특징 벡터를 포함합니다. 의심 할 여지없이, 한 번에 둘 이상의 벡터를 다루는 경우가 많습니다. 행렬은 벡터 목록을 간결하게 나타내며, 행렬의 각 열은 특징 벡터입니다.\n",
    "\n",
    "- TensorFlow에서 행렬을 나타내는 구문은 각각 동일한 길이의 벡터 벡터입니다. 그림 2.1은 [[1, 2, 3], [4, 5, 6]]와 같은 2 행 3 열의 행렬의 예입니다. 이 요소는 두 개의 요소가 포함 된 벡터이며 각 요소는 행렬의 한 행에 해당합니다.\n",
    "\n",
    "- 그림 2.1 다이어그램의 아래쪽 절반에 있는 행렬은 다이어그램의 위쪽 절반에 있는 컴팩트 코드 표기법으로 시각화 한 것입니다. 이러한 형식의 표기법은 대부분의 과학 컴퓨팅 라이브러리에서 일반적인 패러다임입니다.\n",
    "\n",
    "![img_02_01](./img/02_01.png)\n",
    "\n",
    "\n",
    "- tensors의 구문은 더 많은 중첩 된 벡터입니다. 예를 들어, 2x3x2 텐서는 [[[1,2], [3,4], [5,6]], [[7,8], [9,10], [11,12]]]로, 크기가 각각 3 x 2 인 두 개의 행렬로 생각할 수 있습니다. \n",
    "\n",
    "- 결과적으로 이 텐서의 랭크는 3입니다. 일반적으로 텐서의 랭크는 요소를 지정하는 데 필요한 인덱스의 수입니다. TensorFlow의 기계 학습 알고리즘은 Tensors에서 작동하므로 실제로 어떻게 사용하는지 이해하는 것이 중요합니다. (rank. 배열의 차원)\n",
    "\n",
    "![img_02_02](./img/02_02.png)\n",
    "\n",
    "- 텐서를 표현하기 위해 여러 가지 방법으로 길을 잃는 것이 쉽습니다. 직관적으로 Listing 2.3에있는 다음 세 줄의 코드는 동일한 2x2 행렬을 나타 내기 위해 노력하고 있습니다. \n",
    "\n",
    "- 이 행렬은 각각 2 차원의 두 특징 벡터를 나타냅니다. 예를 들어, 두 명의 영화에 대한 두 사람의 평점을 나타낼 수 있습니다. 매트릭스의 행에 의해 인덱싱 된 각 사람은 열에 의해 인덱싱 된 영화에 대한 자신의 리뷰를 설명하는 번호를 할당합니다. 코드를 실행하여 TensorFlow에서 행렬을 생성하는 방법을 확인하십시오."
   ]
  },
  {
   "cell_type": "code",
   "execution_count": 4,
   "metadata": {
    "collapsed": true
   },
   "outputs": [],
   "source": [
    "import tensorflow as tf\n",
    "import numpy as np"
   ]
  },
  {
   "cell_type": "code",
   "execution_count": 5,
   "metadata": {
    "collapsed": true
   },
   "outputs": [],
   "source": [
    "m1 = [[1.0, 2.0], \n",
    "      [3.0, 4.0]]\n",
    "\n",
    "m2 = np.array([[1.0, 2.0], \n",
    "               [3.0, 4.0]], dtype=np.float32)\n",
    "\n",
    "m3 = tf.constant([[1.0, 2.0], \n",
    "                  [3.0, 4.0]])"
   ]
  },
  {
   "cell_type": "code",
   "execution_count": 6,
   "metadata": {
    "collapsed": false
   },
   "outputs": [
    {
     "name": "stdout",
     "output_type": "stream",
     "text": [
      "<class 'list'>\n",
      "<class 'numpy.ndarray'>\n",
      "<class 'tensorflow.python.framework.ops.Tensor'>\n"
     ]
    }
   ],
   "source": [
    "print(type(m1))\n",
    "print(type(m2))\n",
    "print(type(m3))"
   ]
  },
  {
   "cell_type": "code",
   "execution_count": 7,
   "metadata": {
    "collapsed": true
   },
   "outputs": [],
   "source": [
    "t1 = tf.convert_to_tensor(m1, dtype=tf.float32)\n",
    "t2 = tf.convert_to_tensor(m2, dtype=tf.float32)\n",
    "t3 = tf.convert_to_tensor(m3, dtype=tf.float32)"
   ]
  },
  {
   "cell_type": "markdown",
   "metadata": {},
   "source": [
    "- 첫 번째 변수 (m1)는 목록이고 두 번째 변수 (m2)는 NumPy 라이브러리의 ndarray이며 마지막 변수 (m3)는 TensorFlow의 Tensor 객체입니다.\n",
    "\n",
    "- 음수와 같은 TensorFlow의 모든 연산자는 텐서 객체에서 작동하도록 설계되었습니다. \n",
    "\n",
    "- 우리가 다른 타입과는 반대로 텐서를 다루고 있는지를 확인하기 위해 어디든 뿌릴 수있는 편리한 함수는 tf.convert_to_tensor (...)입니다.\n",
    "\n",
    "- 실제로 TensorFlow 라이브러리의 대부분 기능은 이미 잊어 버린 경우에도 이 기능을 수행합니다 (중복). tf.convert_to_tensor (...)를 사용하는 것은 선택 사항이지만 라이브러리에서 처리되는 암시 적 유형 시스템을 명확하게 설명하기 때문에 여기에 표시합니다. 이전 목록 2.3은 다음 세 번 출력합니다."
   ]
  },
  {
   "cell_type": "code",
   "execution_count": 9,
   "metadata": {
    "collapsed": false
   },
   "outputs": [
    {
     "name": "stdout",
     "output_type": "stream",
     "text": [
      "<class 'tensorflow.python.framework.ops.Tensor'>\n",
      "<class 'tensorflow.python.framework.ops.Tensor'>\n",
      "<class 'tensorflow.python.framework.ops.Tensor'>\n"
     ]
    }
   ],
   "source": [
    "print(type(t1))\n",
    "print(type(t2))\n",
    "print(type(t3))"
   ]
  },
  {
   "cell_type": "markdown",
   "metadata": {},
   "source": [
    "- 코드에서 텐서를 정의하는 것에 대해 다시 한번 살펴 보겠습니다. TensorFlow 라이브러리를 가져온 후에 Listing 2.4에서 상수 연산자를 사용할 수있다. 다음은 다양한 차원의 몇 가지 다른 텐서입니다."
   ]
  },
  {
   "cell_type": "code",
   "execution_count": 11,
   "metadata": {
    "collapsed": false
   },
   "outputs": [
    {
     "name": "stdout",
     "output_type": "stream",
     "text": [
      "Tensor(\"Const_6:0\", shape=(1, 2), dtype=float32)\n",
      "Tensor(\"Const_7:0\", shape=(2, 1), dtype=int32)\n",
      "Tensor(\"Const_8:0\", shape=(2, 3, 2), dtype=int32)\n"
     ]
    }
   ],
   "source": [
    "m1 = tf.constant([[1., 2.]])\n",
    " \n",
    "m2 = tf.constant([[1],\n",
    "                  [2]])\n",
    " \n",
    "m3 = tf.constant([ [[1,2],\n",
    "                    [3,4],\n",
    "                    [5,6]],\n",
    "                    [[7,8],\n",
    "                    [9,10],\n",
    "                    [11,12]] ])\n",
    " \n",
    "print(m1)\n",
    "print(m2)\n",
    "print(m3)"
   ]
  },
  {
   "cell_type": "markdown",
   "metadata": {},
   "source": [
    "- 결과에서 볼 수 있듯이, 각 텐서는 적절한 Tensor 객체로 표현됩니다. \n",
    "\n",
    "- 각 Tensor 객체는 고유 한 레이블 (이름), 구조를 정의하는 차원 (모양) 및 조작 할 값의 종류를 지정하는 데이터 유형 (dtype)을 가집니다. \n",
    "\n",
    "- 명시적으로 이름을 제공하지 않았기 때문에 라이브러리는 \"Const : 0\", \"Const_1 : 0\"및 \"Const_2 : 0\"이라는 이름을 자동으로 생성했습니다."
   ]
  },
  {
   "cell_type": "code",
   "execution_count": 66,
   "metadata": {
    "collapsed": false
   },
   "outputs": [
    {
     "name": "stdout",
     "output_type": "stream",
     "text": [
      "Tensor(\"Const_5:0\", shape=(2, 2, 3, 2), dtype=int32)\n"
     ]
    }
   ],
   "source": [
    "m4 = tf.constant([ [[[1,2],\n",
    "                    [3,4],\n",
    "                    [5,6]],\n",
    "                    [[7,8],\n",
    "                    [9,10],\n",
    "                    [11,12]]],\n",
    "                    \n",
    "                   [[[1,2],\n",
    "                    [3,4],\n",
    "                    [5,6]],\n",
    "                    [[7,8],\n",
    "                    [9,10],\n",
    "                    [11,12]]]\n",
    "                  ])\n",
    "\n",
    "print(m4)"
   ]
  },
  {
   "cell_type": "markdown",
   "metadata": {},
   "source": [
    "### TENSOR 유형\n",
    "\n",
    "- m1의 각 요소는 소수점으로 끝납니다. 소수점은 요소의 데이터 유형이 정수가 아니라 대신 float임을 파이썬에 알려줍니다. \n",
    "- 명시적 dtype 값을 전달할 수 있습니다. NumPy 배열과 마찬가지로, 텐서는 그 텐서에서 조작 할 값의 종류를 지정하는 데이터 유형을 사용합니다.\n",
    "\n",
    "- TensorFlow는 또한 간단한 텐서의 경우 몇 가지 편리한 생성자를 제공합니다. \n",
    "- 예를 들어, tf.zeros (shape)는 모든 값이 특정 모양의 0으로 초기화 된 텐서를 만듭니다. \n",
    "- 마찬가지로 tf.ones (shape)는 모든 값을 한 번에 초기화하여 특정 모양의 텐서를 만듭니다. \n",
    "- shape 인수는 1 차원 (1D) 텐서 형태의 int32 (정수 목록)로, 텐서의 크기를 설명합니다.\n"
   ]
  },
  {
   "cell_type": "markdown",
   "metadata": {},
   "source": [
    "### 2.3   Creating operators\n",
    "\n",
    "- 몇 가지 시작 텐서를 사용할 준비가 되었으므로 더하기 또는 곱하기와 같은 더 재미있는 연산자를 적용 할 수 있습니다.\n",
    "- 다른 사람에게 (양수 값)과 (음수 값) 돈 거래를 나타내는 행렬의 각 행을 고려하십시오. 행렬을 부정하면 다른 사람의 통화 흐름에 대한 거래 내역을 나타낼 수 있습니다. \n",
    "\n",
    "- 간단히 시작하여 목록 2.4의 m1 텐서에서 부정 연산 (연산에 대한 짧은 표현)을 실행하십시오. 행렬을 부정하면 양수가 같은 크기의 음수로 바뀌고 그 반대의 경우도 마찬가지입니다.\n",
    "\n",
    "- 부정은 가장 간단한 작업 중 하나입니다. Listing 2.5에서 보듯이 부정은 입력으로 하나의 텐서 만 취하고 모든 원소가 무효화 된 텐서를 생성한다. \n",
    "- 코드를 실행 해보십시오. 부정을 정의하는 방법을 습득하면 다른 모든 TensorFlow 작업에 해당 스킬을 일반화하기위한 디딤돌을 제공합니다."
   ]
  },
  {
   "cell_type": "code",
   "execution_count": 12,
   "metadata": {
    "collapsed": false
   },
   "outputs": [
    {
     "name": "stdout",
     "output_type": "stream",
     "text": [
      "Tensor(\"Neg:0\", shape=(1, 2), dtype=int32)\n"
     ]
    }
   ],
   "source": [
    "x = tf.constant([[1, 2]])\n",
    "neg_x = tf.negative(x)\n",
    "print(neg_x)"
   ]
  },
  {
   "cell_type": "code",
   "execution_count": 13,
   "metadata": {
    "collapsed": false
   },
   "outputs": [
    {
     "name": "stdout",
     "output_type": "stream",
     "text": [
      "[[-1 -2]]\n"
     ]
    }
   ],
   "source": [
    "with tf.Session() as sess:\n",
    "    result = sess.run(neg_x)\n",
    "    print(result)"
   ]
  },
  {
   "cell_type": "markdown",
   "metadata": {},
   "source": [
    "[USEFUL TENSORFLOW OPERATORS](https://www.tensorflow.org/api_guides/python/math_ops)"
   ]
  },
  {
   "cell_type": "markdown",
   "metadata": {},
   "source": [
    "### 2.4   Executing operators with sessions\n",
    "\n",
    "- 세션은 코드 줄의 실행 방법을 설명하는 소프트웨어 시스템의 환경입니다. \n",
    "- TensorFlow에서 세션은 하드웨어 장치 (예 : CPU 및 GPU)가 서로 이야기하는 방식을 설정합니다. \n",
    "- 그렇게 하면 하드웨어가 실행되는 하드웨어의 미세 관리에 대한 걱정없이 기계학습 알고리즘을 설계 할 수 있습니다. 물론 나중에 기계 학습 코드의 라인을 변경하지 않고 세션의 동작을 변경하도록 세션을 구성 할 수 있습니다.\n",
    "\n",
    "- 작업을 실행하고 계산 된 값을 검색하려면 TensorFlow에 세션이 필요합니다. 등록된 세션 만 Tensor 객체의 값을 채울 수 있습니다. \n",
    "- tf.Session()을 사용하여 세션 클래스를 만들고 연산자 (목록 2.6)를 실행하도록 지시해야합니다. 결과는 나중에 계산에 사용할 수있는 값이됩니다.\n",
    "\n",
    "- 모든 Tensor 객체에는 해당 값을 정의하는 수학 연산을 평가하는 eval() 함수가 있습니다. 그러나 eval() 함수는 기본 하드웨어를 가장 잘 사용하는 방법을 이해하기 위해 라이브러리에 대한 세션 객체를 정의해야 합니다. 이전에 2.6의 목록에서 sess.run (...)을 사용했습니다. 이는 세션 컨텍스트에서 Tensor의 eval() 함수를 호출하는 것과 같습니다.\n",
    "\n",
    "- 대화형 환경 (디버깅 또는 프리젠 테이션 목적으로)을 통해 TensorFlow 코드를 실행하는 경우 세션이 암시 적으로 eval()에 대한 호출의 일부인 대화 형 모드에서 세션을 만드는 것이 더 쉽습니다. 이렇게하면 세션 변수를 코드 전체에 전달할 필요가 없으므로 목록 2.7에 표시된 알고리즘의 관련 부분에 더 쉽게 집중할 수 있습니다."
   ]
  },
  {
   "cell_type": "code",
   "execution_count": 17,
   "metadata": {
    "collapsed": true
   },
   "outputs": [],
   "source": [
    "sess = tf.InteractiveSession()\n",
    "\n",
    "x = tf.constant([[1., 2.]])\n",
    "neg_op = tf.negative(x)"
   ]
  },
  {
   "cell_type": "code",
   "execution_count": 19,
   "metadata": {
    "collapsed": false
   },
   "outputs": [
    {
     "name": "stdout",
     "output_type": "stream",
     "text": [
      "[[-1. -2.]]\n"
     ]
    }
   ],
   "source": [
    "result = neg_op.eval()\n",
    "\n",
    "print(result)"
   ]
  },
  {
   "cell_type": "code",
   "execution_count": 20,
   "metadata": {
    "collapsed": true
   },
   "outputs": [],
   "source": [
    "sess.close()"
   ]
  },
  {
   "cell_type": "markdown",
   "metadata": {},
   "source": [
    "### 2.4.1   Understanding code as a graph\n",
    "\n",
    "- 신생아의 예상 체중을 7.5 파운드로 예상하는 의사를 고려하십시오. 그것이 실제 측정 된 무게와 다른 점을 파악하고 싶습니다. 지나치게 분석적인 기술자이기 때문에 신생아의 가능한 모든 체중의 가능성을 설명하는 함수를 설계합니다. 예를 들어, 8 파운드는 10 파운드보다 높습니다.\n",
    "\n",
    "- Gaussian (그렇지 않으면 Normal이라고도 함) 확률 분포 함수를 사용하도록 선택할 수 있습니다.\n",
    "- 입력으로 숫자를 취하고 입력을 관찰 할 확률을 설명하는 음이 아닌 숫자를 출력합니다. 이 기능은 기계 학습에서 항상 나타나며 TensorFlow에서 쉽게 정의 할 수 있습니다. 그것은 곱셈, 나눗셈, 부정 및 몇 가지 다른 기본 연산자를 사용합니다.\n",
    "- 모든 연산자를 그래프의 노드로 생각하십시오. 연산자 사이의 가장자리는 수학 함수의 구성을 나타냅니다. 특히 우리가 지금까지 연구해온 음의 연산자는 노드이고,이 노드의 들어오고 나가는 가장자리는 Tensor의 변형 방법입니다.\n",
    "\n",
    "- 다음은 생각입니다. 모든 연산자는 특정 차원의 입력 텐서를 취해 특정 차원의 출력을 생성하는 강력한 형식화 된 함수입니다. 그림 2.3은 TensorFlow를 사용하여 가우시안 함수를 설계하는 방법의 예입니다. 여기서 연산자는 노드이고 가장자리는 상호 작용하는 그래프입니다. \n",
    "- 이 그래프는 전체적으로 복잡한 수학 함수 (특히 가우스 함수)를 나타냅니다. 그래프의 작은 세그먼트는 부정 또는 2 배와 같은 간단한 수학 개념을 나타냅니다.\n",
    "\n",
    "#### 그림 2.3 그래프는 가우스 분포를 생성하는 데 필요한 연산을 나타냅니다. 노드 간의 링크는 한 작업에서 다음 작업으로 데이터가 흐르는 방식을 나타냅니다. 작업 자체는 매우 단순하지만 복잡성은 서로 어떻게 연결되어 발생합니다.\n",
    "\n",
    "![img_02_03](./img/02_03.png)\n",
    "\n",
    "- TensorFlow 알고리즘은 쉽게 시각화 할 수 있습니다. 그들은 flowcharts에 의해 간단히 설명 될 수 있습니다. \n",
    "- 흐름도의 기술적 인 (더 정확한) 용어는 그래프입니다. 순서도의 모든 화살표를 그래프의 가장자리라고 합니다. 또한 순서도의 모든 상태를 노드라고합니다."
   ]
  },
  {
   "cell_type": "markdown",
   "metadata": {},
   "source": [
    "### 2.4.2   Session configurations\n",
    "- tf.Session에 옵션을 전달할 수도 있습니다.\n",
    "- 예를 들어 TensorFlow는 사용할 수있는 작업에 따라 GPU 또는 CPU 장치를 작업에 할당하는 가장 좋은 방법을 자동으로 결정합니다.\n",
    "- Listing 2.8에 나와있는 것처럼 세션을 만들 때 log_device_placements = True라는 추가 옵션을 전달할 수 있습니다."
   ]
  },
  {
   "cell_type": "code",
   "execution_count": 24,
   "metadata": {
    "collapsed": false
   },
   "outputs": [
    {
     "name": "stdout",
     "output_type": "stream",
     "text": [
      "[[-1 -2]]\n"
     ]
    }
   ],
   "source": [
    "x = tf.constant([[1, 2]])\n",
    "neg_op = tf.negative(x)\n",
    "\n",
    "with tf.Session(config=tf.ConfigProto(log_device_placement=True)) as sess:\n",
    "    result = sess.run(neg_op)\n",
    "\n",
    "print(result)"
   ]
  },
  {
   "cell_type": "markdown",
   "metadata": {},
   "source": [
    "`Neg: /job:localhost/replica:0/task:0/cpu:0`\n",
    "\n",
    "- 이렇게하면 각 작업에 대해 세션에서 사용되는 CPU / GPU 장치에 대한 정보가 출력됩니다.\n",
    "- 예를 들어,리스트 2.8을 실행하면 다음과 같은 출력 결과가 나오며 부정 연산을 실행하는 데 사용 된 장치가 표시됩니다.\n",
    "\n",
    "- 세션은 TensorFlow 코드에서 필수적입니다. 실제로 세션을 호출하여 수학을 \"실행\"해야합니다. \n",
    "\n",
    "- 그림 2.4는 TensorFlow의 여러 구성 요소가 기계 학습 파이프 라인과 상호 작용하는 방법을 보여줍니다. 세션은 그래프 작업을 실행할뿐만 아니라 자리 표시 자, 변수 및 상수를 입력으로 가져올 수도 있습니다. \n",
    "\n",
    "- 지금까지는 상수를 사용했지만 이후 섹션에서는 변수와 자리 표시자를 사용하기 시작합니다. 이 세 가지 유형의 값에 대한 간략한 개요는 다음과 같습니다.\n",
    "\n",
    "1) Placeholder\n",
    "- 할당되지 않은 값이지만 세션이 실행될 때마다 세션에서 초기화됩니다.\n",
    "\n",
    "2) Variable\n",
    "- 기계 학습 모델의 매개 변수와 같이 변경할 수있는 값.\n",
    "\n",
    "3) Constant\n",
    "- 하이퍼 매개 변수 또는 설정과 같이 변경되지 않는 값입니다.\n",
    "\n",
    "![img_02_04](./img/02_04.png)\n",
    "\n",
    "- TensorFlow 파이프 라인으로 학습하는 전체 기계는 그림 2.4의 흐름을 따릅니다.\n",
    "- TensorFlow의 대부분의 코드는 그래프와 세션을 설정하는 데 사용됩니다. 그래프를 디자인하고 실행하기 위해 세션을 연결하면 코드를 사용할 수 있습니다!"
   ]
  },
  {
   "cell_type": "markdown",
   "metadata": {},
   "source": [
    "### 2.5   Writing code in Jupyter\n",
    "- TensorFlow는 기본적으로 파이썬 라이브러리이기 때문에 파이썬의 인터프리터를 최대한 활용해야합니다. \n",
    "- Jupyter는 언어의 쌍방향 특성을 발휘할 수있는 성숙한 환경입니다. 계산을 우아하게 표시하는 웹 응용 프로그램이므로 주석이 달린 대화식 알고리즘을 다른 사람들과 공유하여 기술을 가르치거나 코드를 시연 할 수 있습니다.\n",
    "\n",
    "- Jupyter 노트북을 다른 사람들과 공유하여 아이디어를 교환하고 다른 사람들을 다운로드하여 코드에 대해 학습 할 수 있습니다. Jupyter 노트북 설치를 시작하려면 부록을 참조하십시오.\n",
    "\n",
    "- 새 터미널에서 TensorFlow 코드를 연습 할 위치로 디렉토리를 변경하고 노트북 서버를 시작합니다\n",
    "\n",
    "- 이전 명령을 실행하면 Jupyter 노트북 대시 보드로 새 브라우저 창이 시작됩니다. 창이 자동으로 열리지 않으면 모든 브라우저에서 수동으로 http://localhost:8888 을 탐색 할 수 있습니다.\n",
    "\n",
    "![img_02_05](./img/02_05.png)\n",
    "\n",
    "- Jupyter 노트북의 모든 내용은 셀이라는 코드 또는 텍스트의 독립적인 덩어리입니다. 그런 다음 긴 코드 블록을 다루기 쉬운 코드 스 니펫과 문서로 나눕니다. 셀을 개별적으로 실행하거나 순서대로 모든 것을 실행하도록 선택할 수 있습니다. 세포를 평가하는 세 가지 일반적인 방법이 있습니다.\n",
    "\n",
    "- 셀에 Shift + Enter를 누르면 셀이 실행되고 아래 셀이 강조 표시됩니다.\n",
    "- Ctrl + Enter를 누르면 실행 후 현재 셀에 커서가 유지됩니다.\n",
    "- 그리고 마지막으로, Alt + Enter를 누르면 셀이 실행되고 바로 아래에 새로운 빈 셀이 삽입됩니다.\n",
    "\n",
    "![img_02_05](./img/02_07.png)"
   ]
  },
  {
   "cell_type": "markdown",
   "metadata": {},
   "source": [
    "### 2.6   Using variables\n",
    "\n",
    "- TensorFlow 상수를 사용하는 것이 좋은 출발이지만, 가장 흥미로운 응용 프로그램은 데이터를 변경해야 합니다. \n",
    "- 예를 들어, 신경 과학자는 센서 측정에서 신경 활동을 감지하는 데 관심이있을 수 있습니다. 신경 활동의 스파이크는 시간에 따라 변하는 부울 변수 일 수 있습니다. TensorFlow에서 이를 캡처하려면 Variable 클래스를 사용하여 값이 시간이 지남에 따라 변경되는 노드를 나타낼 수 있습니다.\n",
    "\n",
    "- 많은 점에 가장 잘 맞는 선 방정식을 찾는 것이 고전적인 기계 학습 문제입니다.이 문제는 다음 장에서 자세히 설명합니다.\n",
    "- 근본적으로 알고리즘은 초기 추측으로 시작합니다.이 추측은 수 (예 : 기울기 또는 y 절편)가 특징 인 방정식입니다. 시간이 지남에 따라 알고리즘은 매개 변수라고도하는이 숫자에 대해 더 나은 추측을 생성합니다.\n",
    "\n",
    "- 지금까지 우리는 단지 상수를 조작하고 있었습니다. 이러한 이유로 TensorFlow는 시간이 지남에 따라 변경 될 수 있는 값의 컨테이너 인 변수와 같은 더 풍부한 도구를 허용합니다. \n",
    "- 기계학습 알고리즘은 최적 값을 찾을 때까지 모델의 매개 변수를 업데이트합니다. 기계학습의 세계에서는 매개 변수가 결국 안정 될 때까지 변동하는 것이 일반적입니다. 따라서 변수는 데이터 구조의 탁월한 선택입니다."
   ]
  },
  {
   "cell_type": "code",
   "execution_count": 67,
   "metadata": {
    "collapsed": true
   },
   "outputs": [],
   "source": [
    "sess = tf.InteractiveSession()"
   ]
  },
  {
   "cell_type": "code",
   "execution_count": 68,
   "metadata": {
    "collapsed": true
   },
   "outputs": [],
   "source": [
    "raw_data = [1., 2., 8., -1., 0., 5.5, 6., 13]"
   ]
  },
  {
   "cell_type": "code",
   "execution_count": 73,
   "metadata": {
    "collapsed": false
   },
   "outputs": [
    {
     "data": {
      "text/plain": [
       "(8.0, 2.0)"
      ]
     },
     "execution_count": 73,
     "metadata": {},
     "output_type": "execute_result"
    }
   ],
   "source": [
    "raw_data[2] , raw_data[1]"
   ]
  },
  {
   "cell_type": "code",
   "execution_count": 75,
   "metadata": {
    "collapsed": true
   },
   "outputs": [],
   "source": [
    "spike = tf.Variable(False)\n",
    "spike.initializer.run()"
   ]
  },
  {
   "cell_type": "code",
   "execution_count": 76,
   "metadata": {
    "collapsed": false
   },
   "outputs": [
    {
     "name": "stdout",
     "output_type": "stream",
     "text": [
      "Spike False\n",
      "Spike True\n",
      "Spike False\n",
      "Spike False\n",
      "Spike True\n",
      "Spike False\n",
      "Spike True\n"
     ]
    }
   ],
   "source": [
    "for i in range(1, len(raw_data)):\n",
    "    if raw_data[i] - raw_data[i-1] > 5:\n",
    "        updater = tf.assign(spike, tf.constant(True))\n",
    "        updater.eval()\n",
    "    else:\n",
    "        tf.assign(spike, False).eval()\n",
    "    print(\"Spike\", spike.eval())"
   ]
  },
  {
   "cell_type": "code",
   "execution_count": 77,
   "metadata": {
    "collapsed": true
   },
   "outputs": [],
   "source": [
    "sess.close()"
   ]
  },
  {
   "cell_type": "markdown",
   "metadata": {},
   "source": [
    "### 2.7   Saving and Loading Variables\n",
    "\n",
    "- 그렇지만 작은 세그먼트를 개별적으로 테스트하고 싶습니다. 복잡한 기계 학습 상황에서 알려진 체크 포인트에서 데이터를 저장하고 로드하면 코드를 디버그하는 것이 훨씬 쉬워집니다.\n",
    "- TensorFlow는 변수 값을 디스크에 저장하고로드 할 수 있는 고급 인터페이스를 제공합니다. 그 목적을 위해 그것을 사용하는 방법을 보여드리겠습니다.\n",
    "\n",
    "- 목록 2.9에서 만든 코드를 수정하여 스파이크 데이터를 디스크에 저장하여 다른 곳에서로드 할 수 있도록하십시오. \n",
    "- 스파이크 변수를 간단한 부울에서 스파이크의 이력을 캡처하는 부울의 벡터로 변경합니다 (목록 2.10).\n",
    "- 나중에 로드 할 수 있도록 변수 이름을 명시적으로 지정합니다. 결과를 보려면 이 코드를 실행 해보십시오."
   ]
  },
  {
   "cell_type": "code",
   "execution_count": 46,
   "metadata": {
    "collapsed": true
   },
   "outputs": [],
   "source": [
    "tf.reset_default_graph()\n",
    "sess = tf.InteractiveSession()\n",
    "\n",
    "raw_data = [1., 2., 8., -1., 0., 5.5, 6., 13]\n",
    "spikes = tf.Variable([False] * len(raw_data), name='spikes')\n",
    "spikes.initializer.run()"
   ]
  },
  {
   "cell_type": "code",
   "execution_count": 47,
   "metadata": {
    "collapsed": true
   },
   "outputs": [],
   "source": [
    "saver = tf.train.Saver()"
   ]
  },
  {
   "cell_type": "code",
   "execution_count": 48,
   "metadata": {
    "collapsed": true
   },
   "outputs": [],
   "source": [
    "for i in range(1, len(raw_data)):\n",
    "    if raw_data[i] - raw_data[i-1] > 5:\n",
    "        spikes_val = spikes.eval()\n",
    "        spikes_val[i] = True\n",
    "        updater = tf.assign(spikes, spikes_val)\n",
    "        updater.eval()"
   ]
  },
  {
   "cell_type": "code",
   "execution_count": 49,
   "metadata": {
    "collapsed": false
   },
   "outputs": [],
   "source": [
    "save_path = saver.save(sess, \"spikes.ckpt\")"
   ]
  },
  {
   "cell_type": "code",
   "execution_count": 50,
   "metadata": {
    "collapsed": true
   },
   "outputs": [],
   "source": [
    "sess.close()"
   ]
  },
  {
   "cell_type": "markdown",
   "metadata": {},
   "source": [
    "- 소스 코드와 동일한 디렉토리에 spikes.ckpt라는 몇 개의 파일이 생성되어 있음을 알 수 있습니다. \n",
    "- 압축 된 바이너리 파일이므로 텍스트 편집기로 쉽게 수정할 수 없습니다. 이 데이터를 검색하려면 목록 2.11에서 설명한대로 세이버 운영자의 복원 기능을 사용할 수 있습니다."
   ]
  },
  {
   "cell_type": "code",
   "execution_count": 51,
   "metadata": {
    "collapsed": true
   },
   "outputs": [],
   "source": [
    "spikes = tf.Variable([False]*8, name='spikes')"
   ]
  },
  {
   "cell_type": "code",
   "execution_count": 52,
   "metadata": {
    "collapsed": false
   },
   "outputs": [
    {
     "name": "stdout",
     "output_type": "stream",
     "text": [
      "INFO:tensorflow:Restoring parameters from spikes.ckpt\n",
      "file not found\n"
     ]
    }
   ],
   "source": [
    "saver = tf.train.Saver()\n",
    "\n",
    "try:\n",
    "    saver.restore(sess, 'spikes.ckpt')\n",
    "    print(spikes.eval())\n",
    "except:\n",
    "    print('file not found')"
   ]
  },
  {
   "cell_type": "code",
   "execution_count": 53,
   "metadata": {
    "collapsed": true
   },
   "outputs": [],
   "source": [
    "sess.close()"
   ]
  },
  {
   "cell_type": "markdown",
   "metadata": {},
   "source": [
    "### 2.8   Visualizing data using TensorBoard\n",
    "\n",
    "- 기계 학습에서 가장 시간이 많이 소요되는 부분은 대개 프로그래밍이 아니라 코드 실행을 기다리는 것입니다. 예를 들어, 기계 학습 컨텍스트에서 사용할 준비가 된 1400 만 개가 넘는 이미지가 포함 된 ImageNet이라는 유명한 데이터 세트가 있습니다. \n",
    "\n",
    "- 때로는 대형 데이터 세트를 사용하여 알고리즘을 교육하는 데 며칠 또는 몇 주가 소요될 수 있습니다. TensorFlow에는 TensorBoard라는 편리한 대시 보드가있어 그래프의 각 노드에서 값이 어떻게 변하는 지 빠르게 볼 수 있습니다. 그렇게하면 코드가 어떻게 수행되고 있는지 직관적으로 파악할 수 있습니다.\n",
    "\n",
    "- 이 섹션에서는 TensorBoard를 사용하여 데이터가 어떻게 변경되는지 시각화합니다. 한 회사의 평균 주가를 계산하는 데 관심이 있다고 가정 해보십시오. 일반적으로 평균 계산은 모든 값을 합산하고 평균 = (x1 + x2 + ... + xn) / n으로 표시된 총 수로 나눈 값입니다. \n",
    "\n",
    "- 총 값 수가 알려지지 않은 경우 지수 적 평균화라는 기술을 사용하여 알 수없는 데이터의 평균값을 추정 할 수 있습니다. 지수 평균 알고리즘은 이전 추정 평균 및 현재 값의 함수로서 현재 추정 평균을 계산합니다.\n",
    "\n",
    "- 보다 간결하게, Avgt = f (Avgt-1, xt) = (1-α) Avgt-1 + α xt. 알파 (α)는 조정될 매개 변수로, 최근 값이 평균 계산에서 얼마나 강하게 편향되어야 하는지를 나타냅니다. α의 값이 높을수록 가장 크게 계산 된 평균은 이전에 추정 된 평균과 다를 것입니다. 그림 2.8은 TensorBoard가 시간 경과에 따라 값과 해당 실행 평균을 시각화하는 방법을 보여줍니다."
   ]
  },
  {
   "cell_type": "code",
   "execution_count": 78,
   "metadata": {
    "collapsed": true
   },
   "outputs": [],
   "source": [
    "raw_data = np.random.normal(10, 1, 100)"
   ]
  },
  {
   "cell_type": "code",
   "execution_count": 81,
   "metadata": {
    "collapsed": false
   },
   "outputs": [
    {
     "data": {
      "text/plain": [
       "array([  9.28759243,  10.75848333,   9.2369174 ,  10.91669927,\n",
       "        11.18274416,   9.09085851,   8.33816653,  10.25989785,\n",
       "        10.25634657,  10.21452557,  11.03879398,   9.38967687,\n",
       "        10.52727179,   9.77927386,  10.22809455,   8.9975449 ,\n",
       "        10.66371486,   9.67833207,  11.87617183,   9.63538416,\n",
       "        11.49306896,   7.99744591,  11.37403084,  10.46334676,\n",
       "        10.0684554 ,  12.31128435,  10.05274706,  11.68542411,\n",
       "         8.82704569,  10.98405611,  10.63546408,   8.94990203,\n",
       "        10.8751598 ,   9.5735252 ,  10.47104262,  11.433378  ,\n",
       "         9.3113992 ,  10.38288166,  10.22715628,  10.37721639,\n",
       "         9.71416436,   8.77885294,  11.71362632,  11.19992721,\n",
       "         9.40235327,  10.38472585,  10.49956637,  10.97495625,\n",
       "         9.25358349,  11.61763303,   9.7537987 ,  11.18993134,\n",
       "        10.27854593,   8.83316667,   7.23530879,   9.02230025,\n",
       "         9.37895577,   9.25082468,  10.50971092,  10.43207382,\n",
       "        11.39637541,   7.52007873,  10.3985525 ,   9.97820017,\n",
       "         9.05772931,   9.82444072,   9.88425255,   9.05811679,\n",
       "         9.67759335,   9.11262776,  11.21900326,   9.34045379,\n",
       "        12.80351529,   8.03914112,  11.02123331,   8.7310037 ,\n",
       "         9.90394984,   9.16455191,   9.49725801,  11.65848581,\n",
       "        11.01593228,  10.37321032,  10.26095179,  10.45263861,\n",
       "        10.50621249,   8.58891416,   9.99368426,  10.77618401,\n",
       "         9.54220209,  11.90857752,  10.02317483,  10.46646991,\n",
       "         8.86197912,  10.19502706,   9.84702454,   9.99985994,\n",
       "        10.01679057,   9.754738  ,  11.03738167,  10.971379  ])"
      ]
     },
     "execution_count": 81,
     "metadata": {},
     "output_type": "execute_result"
    }
   ],
   "source": [
    "raw_data"
   ]
  },
  {
   "cell_type": "code",
   "execution_count": 82,
   "metadata": {
    "collapsed": true
   },
   "outputs": [],
   "source": [
    "alpha = tf.constant(0.05)\n",
    "curr_value = tf.placeholder(tf.float32)\n",
    "prev_avg = tf.Variable(0.)\n",
    "\n",
    "update_avg = alpha * curr_value + (1 - alpha) * prev_avg"
   ]
  },
  {
   "cell_type": "code",
   "execution_count": 83,
   "metadata": {
    "collapsed": false
   },
   "outputs": [
    {
     "data": {
      "text/plain": [
       "<tf.Tensor 'Placeholder_1:0' shape=<unknown> dtype=float32>"
      ]
     },
     "execution_count": 83,
     "metadata": {},
     "output_type": "execute_result"
    }
   ],
   "source": [
    "curr_value"
   ]
  },
  {
   "cell_type": "code",
   "execution_count": 84,
   "metadata": {
    "collapsed": false
   },
   "outputs": [
    {
     "data": {
      "text/plain": [
       "<tf.Variable 'Variable_2:0' shape=() dtype=float32_ref>"
      ]
     },
     "execution_count": 84,
     "metadata": {},
     "output_type": "execute_result"
    }
   ],
   "source": [
    "prev_avg"
   ]
  },
  {
   "cell_type": "code",
   "execution_count": 85,
   "metadata": {
    "collapsed": false
   },
   "outputs": [
    {
     "data": {
      "text/plain": [
       "<tf.Tensor 'add_1:0' shape=<unknown> dtype=float32>"
      ]
     },
     "execution_count": 85,
     "metadata": {},
     "output_type": "execute_result"
    }
   ],
   "source": [
    "update_avg"
   ]
  },
  {
   "cell_type": "code",
   "execution_count": 56,
   "metadata": {
    "collapsed": true
   },
   "outputs": [],
   "source": [
    "avg_hist = tf.summary.scalar(\"running_average\", update_avg)\n",
    "value_hist = tf.summary.scalar(\"incoming_values\", curr_value)\n",
    "\n",
    "merged = tf.summary.merge_all()\n",
    "writer = tf.summary.FileWriter(\"./logs\")"
   ]
  },
  {
   "cell_type": "code",
   "execution_count": 57,
   "metadata": {
    "collapsed": false
   },
   "outputs": [
    {
     "name": "stdout",
     "output_type": "stream",
     "text": [
      "10.8712290125 0.543561\n",
      "11.1569030654 1.07423\n",
      "9.05176646593 1.47311\n",
      "8.97363040722 1.84813\n",
      "10.3416621076 2.27281\n",
      "9.92495118442 2.65542\n",
      "9.75766456112 3.01053\n",
      "11.001155733 3.41006\n",
      "7.69351824243 3.62423\n",
      "12.8604789402 4.08604\n",
      "9.54263020231 4.35887\n",
      "8.9777211863 4.58982\n",
      "11.1779165867 4.91922\n",
      "11.2381883718 5.23517\n",
      "10.2660064842 5.48671\n",
      "8.94957853339 5.65985\n",
      "9.53036883546 5.85338\n",
      "9.12428168894 6.01692\n",
      "8.98341974817 6.16525\n",
      "9.79097724024 6.34654\n",
      "11.37353017 6.59789\n",
      "11.9517612629 6.86558\n",
      "11.2562416872 7.08511\n",
      "10.4121869208 7.25147\n",
      "9.01314858271 7.33955\n",
      "11.1082180714 7.52798\n",
      "10.3982008525 7.67149\n",
      "9.31901989037 7.75387\n",
      "10.15609071 7.87398\n",
      "9.70306801395 7.96544\n",
      "10.503016316 8.09231\n",
      "10.9864065186 8.23702\n",
      "10.1760743562 8.33397\n",
      "9.45995779114 8.39027\n",
      "9.77947254119 8.45973\n",
      "11.2383377697 8.59866\n",
      "9.36708220042 8.63708\n",
      "10.4394039274 8.7272\n",
      "10.1843068164 8.80005\n",
      "9.75031094194 8.84756\n",
      "7.08379072204 8.75938\n",
      "9.14390376287 8.7786\n",
      "9.77810608475 8.82858\n",
      "11.1076144392 8.94253\n",
      "12.3797955142 9.11439\n",
      "10.6827928374 9.19281\n",
      "10.7582451502 9.27108\n",
      "10.0691366359 9.31099\n",
      "10.8782867523 9.38935\n",
      "7.77478497023 9.30862\n",
      "9.4534946594 9.31587\n",
      "11.1631245435 9.40823\n",
      "10.2765649233 9.45164\n",
      "9.13693992397 9.43591\n",
      "9.28000092015 9.42811\n",
      "10.8186197084 9.49764\n",
      "9.711788263 9.50834\n",
      "10.9178202083 9.57882\n",
      "9.3655284504 9.56815\n",
      "10.6354210032 9.62152\n",
      "8.57212476969 9.56905\n",
      "10.5102627454 9.61611\n",
      "10.414174755 9.65601\n",
      "9.02658601493 9.62454\n",
      "9.33156655653 9.60989\n",
      "10.5123563477 9.65501\n",
      "10.2020095854 9.68236\n",
      "9.23963014015 9.66023\n",
      "9.6567602853 9.66005\n",
      "10.8214803196 9.71812\n",
      "9.43859213832 9.70415\n",
      "7.87429752085 9.61265\n",
      "10.7988006277 9.67196\n",
      "10.4944928798 9.71309\n",
      "11.765450721 9.81571\n",
      "9.3933452077 9.79459\n",
      "8.77357171027 9.74354\n",
      "10.2064740401 9.76668\n",
      "9.91141509653 9.77392\n",
      "10.0462515629 9.78754\n",
      "9.34143429327 9.76523\n",
      "11.5390883052 9.85392\n",
      "11.0909833474 9.91578\n",
      "8.86019456746 9.863\n",
      "8.78256898918 9.80898\n",
      "10.6246404012 9.84976\n",
      "9.1063231048 9.81259\n",
      "9.16517627106 9.78022\n",
      "9.08628849517 9.74552\n",
      "10.8158616507 9.79904\n",
      "10.0625167811 9.81221\n",
      "8.86647623997 9.76493\n",
      "11.537138515 9.85354\n",
      "10.4663439613 9.88418\n",
      "11.9515748127 9.98755\n",
      "11.2907246092 10.0527\n",
      "10.9280852646 10.0965\n",
      "10.9399335855 10.1386\n",
      "9.20390251509 10.0919\n",
      "11.2707723379 10.1509\n"
     ]
    }
   ],
   "source": [
    "init = tf.global_variables_initializer()\n",
    "\n",
    "with tf.Session() as sess:\n",
    "    sess.run(init)\n",
    "    for i in range(len(raw_data)):\n",
    "        summary_str, curr_avg = sess.run([merged, update_avg], feed_dict={curr_value: raw_data[i]})\n",
    "        sess.run(tf.assign(prev_avg, curr_avg))\n",
    "        print(raw_data[i], curr_avg)\n",
    "        writer.add_summary(summary_str, i)"
   ]
  },
  {
   "cell_type": "markdown",
   "metadata": {},
   "source": [
    "![tf_1](./img/tfboard_1.png)"
   ]
  },
  {
   "cell_type": "code",
   "execution_count": 86,
   "metadata": {
    "collapsed": true
   },
   "outputs": [],
   "source": [
    "import multiprocessing\n",
    "NUM_THREADS = multiprocessing.cpu_count()"
   ]
  },
  {
   "cell_type": "code",
   "execution_count": 87,
   "metadata": {
    "collapsed": true
   },
   "outputs": [],
   "source": [
    "xs = np.random.randn(100, 3)\n",
    "ys = np.random.randint(0, 2, size=100)"
   ]
  },
  {
   "cell_type": "code",
   "execution_count": 88,
   "metadata": {
    "collapsed": false
   },
   "outputs": [
    {
     "name": "stdout",
     "output_type": "stream",
     "text": [
      "Input [ 0.00109524 -1.09383276 -0.51106965]  --->  Output 1\n",
      "Input [-0.52625567 -0.46665717 -0.26365508]  --->  Output 0\n",
      "Input [-0.39770171 -1.39912944 -0.93103082]  --->  Output 0\n",
      "Input [-0.62342358 -0.74818948 -0.87015738]  --->  Output 0\n",
      "Input [-0.63583225  0.96671711  1.49097703]  --->  Output 0\n"
     ]
    }
   ],
   "source": [
    "xs_and_ys = zip(xs, ys)\n",
    "for _ in range(5):\n",
    "    x, y = next(xs_and_ys)\n",
    "    print('Input {}  --->  Output {}'.format(x, y))"
   ]
  },
  {
   "cell_type": "code",
   "execution_count": 93,
   "metadata": {
    "collapsed": false
   },
   "outputs": [],
   "source": [
    "queue = tf.FIFOQueue(capacity=1000, dtypes=[tf.float32, tf.int32])"
   ]
  },
  {
   "cell_type": "code",
   "execution_count": 94,
   "metadata": {
    "collapsed": false
   },
   "outputs": [
    {
     "data": {
      "text/plain": [
       "<tensorflow.python.ops.data_flow_ops.FIFOQueue at 0x110a33a90>"
      ]
     },
     "execution_count": 94,
     "metadata": {},
     "output_type": "execute_result"
    }
   ],
   "source": [
    "queue"
   ]
  },
  {
   "cell_type": "code",
   "execution_count": 95,
   "metadata": {
    "collapsed": true
   },
   "outputs": [],
   "source": [
    "enqueue_op = queue.enqueue_many([xs, ys])\n",
    "x_op, y_op = queue.dequeue()"
   ]
  },
  {
   "cell_type": "code",
   "execution_count": 96,
   "metadata": {
    "collapsed": false
   },
   "outputs": [
    {
     "data": {
      "text/plain": [
       "<tf.Operation 'fifo_queue_EnqueueMany' type=QueueEnqueueManyV2>"
      ]
     },
     "execution_count": 96,
     "metadata": {},
     "output_type": "execute_result"
    }
   ],
   "source": [
    "enqueue_op"
   ]
  },
  {
   "cell_type": "code",
   "execution_count": 97,
   "metadata": {
    "collapsed": true
   },
   "outputs": [],
   "source": [
    "qr = tf.train.QueueRunner(queue, [enqueue_op] * 4)"
   ]
  },
  {
   "cell_type": "code",
   "execution_count": 98,
   "metadata": {
    "collapsed": false
   },
   "outputs": [
    {
     "data": {
      "text/plain": [
       "<tensorflow.python.training.queue_runner_impl.QueueRunner at 0x110a33c50>"
      ]
     },
     "execution_count": 98,
     "metadata": {},
     "output_type": "execute_result"
    }
   ],
   "source": [
    "qr"
   ]
  },
  {
   "cell_type": "code",
   "execution_count": 99,
   "metadata": {
    "collapsed": true
   },
   "outputs": [],
   "source": [
    "sess = tf.InteractiveSession()"
   ]
  },
  {
   "cell_type": "code",
   "execution_count": 100,
   "metadata": {
    "collapsed": true
   },
   "outputs": [],
   "source": [
    "coord = tf.train.Coordinator()\n",
    "enqueue_threads = qr.create_threads(sess, coord=coord, start=True)"
   ]
  },
  {
   "cell_type": "code",
   "execution_count": 101,
   "metadata": {
    "collapsed": false
   },
   "outputs": [
    {
     "data": {
      "text/plain": [
       "<tensorflow.python.training.coordinator.Coordinator at 0x110a3db70>"
      ]
     },
     "execution_count": 101,
     "metadata": {},
     "output_type": "execute_result"
    }
   ],
   "source": [
    "coord"
   ]
  },
  {
   "cell_type": "code",
   "execution_count": 102,
   "metadata": {
    "collapsed": false
   },
   "outputs": [
    {
     "data": {
      "text/plain": [
       "[<Thread(Thread-5, started 123145437102080)>,\n",
       " <Thread(Thread-6, started 123145442357248)>,\n",
       " <Thread(Thread-7, started 123145447612416)>,\n",
       " <Thread(Thread-8, started 123145452867584)>,\n",
       " <Thread(Thread-9, started 123145458122752)>]"
      ]
     },
     "execution_count": 102,
     "metadata": {},
     "output_type": "execute_result"
    }
   ],
   "source": [
    "enqueue_threads"
   ]
  },
  {
   "cell_type": "code",
   "execution_count": 103,
   "metadata": {
    "collapsed": false
   },
   "outputs": [
    {
     "name": "stdout",
     "output_type": "stream",
     "text": [
      "[ 0.00109524 -1.09383273 -0.51106966] 1\n",
      "[-0.52625567 -0.46665716 -0.26365507] 0\n",
      "[-0.39770171 -1.39912939 -0.93103081] 0\n",
      "[-0.62342358 -0.74818945 -0.87015736] 0\n",
      "[-0.63583225  0.96671712  1.49097705] 0\n",
      "[-0.62027103 -0.87870747 -1.49624634] 0\n",
      "[ 0.02775653  2.19473171 -2.49403811] 1\n",
      "[-0.05209578 -0.3862133  -0.83415782] 1\n",
      "[ 1.10429001 -0.3094672   0.1007305 ] 0\n",
      "[ 0.93306196  1.6056726   0.17766304] 0\n",
      "[ 0.30909112  1.35404873  0.08835226] 0\n",
      "[-0.22949181 -1.71412587  1.72045851] 0\n",
      "[-0.252496    1.5717299  -0.96524382] 1\n",
      "[-1.0584861  -0.35258964  0.29796937] 1\n",
      "[ 0.74860728 -1.02952731 -0.5547384 ] 1\n",
      "[ 0.07617518  0.42095709 -0.21982887] 1\n",
      "[ 0.10713191  0.13818595 -0.94943088] 1\n",
      "[-0.08332518 -0.3119224   1.44371474] 0\n",
      "[ 1.15088975 -0.57503843 -1.2837615 ] 0\n",
      "[ 0.56179762  0.67772853 -0.44296429] 0\n",
      "[ 0.58064014 -0.43276337 -1.39307761] 0\n",
      "[ 0.79660648 -0.43114415  1.38136899] 1\n",
      "[ 1.32155955 -0.52968746 -1.22529662] 1\n",
      "[-0.85864365  1.4264096   2.15328693] 0\n",
      "[ 0.19943063 -0.50613356 -1.08681536] 1\n",
      "[-0.98947793 -1.07439482 -0.58148897] 1\n",
      "[ 0.74783355 -0.35579526  0.39075938] 1\n",
      "[ 2.24383163  0.32995912  0.1259243 ] 1\n",
      "[-0.66843218 -0.053189    0.85134864] 1\n",
      "[ 0.0983506  -0.54653937  1.44622433] 0\n",
      "[-0.01977147 -1.27379644  0.96376717] 1\n",
      "[-1.74581623  0.51872098  0.86443013] 1\n",
      "[-1.52332497  0.5573715   2.09983397] 1\n",
      "[ 0.11969306  0.82800674 -1.30503118] 0\n",
      "[-1.04575789  1.13735521  1.25453293] 0\n",
      "[ 0.47395685  1.26349759  0.84813154] 0\n",
      "[-1.58047962 -0.39759979  0.03370019] 1\n",
      "[-0.45475093  0.75913143  0.62057185] 1\n",
      "[-0.05578623  1.45552886  0.91691858] 1\n",
      "[ 1.69876862 -0.19007015  0.17257543] 0\n",
      "[ 1.356516   -1.67690897  0.67814779] 0\n",
      "[ 0.51185232  1.59338212  1.3734262 ] 0\n",
      "[ 0.85703212 -0.60848147 -1.29637265] 1\n",
      "[-2.51824856 -0.312857    1.86388087] 1\n",
      "[ 1.05582905  0.63575643 -0.85104525] 0\n",
      "[ 0.84786129  0.50796294 -1.03870165] 1\n",
      "[ 0.20179377 -0.37352383 -0.05092214] 0\n",
      "[ 0.33319876 -2.98132372 -0.61687881] 0\n",
      "[-0.28337717  0.22387457  1.25274682] 0\n",
      "[ 2.80843711 -0.29022205  1.03494978] 1\n",
      "[-0.78257579  1.54369938  0.37044966] 0\n",
      "[-1.52014899 -0.32048163 -1.37799144] 0\n",
      "[-0.138785   -1.14341199 -0.43138319] 0\n",
      "[ 0.41631886  1.83193421 -0.08877401] 1\n",
      "[-1.49378276 -1.0296489  -0.35495904] 0\n",
      "[ 2.22935772 -0.05825589 -1.24679065] 0\n",
      "[ 1.01033163  1.10288835  0.94194359] 1\n",
      "[-0.00147642  0.78708416 -0.08806204] 1\n",
      "[-0.2657277  -0.39368218  1.04329455] 0\n",
      "[-0.64412647 -1.22295642  0.45814589] 1\n",
      "[-0.62637258  0.0108123  -2.31013274] 0\n",
      "[ 1.23042309  0.10248562  0.02871994] 1\n",
      "[-0.6987415  -0.66517591 -1.73574448] 0\n",
      "[ 0.6911124  -1.07850945 -1.40561378] 1\n",
      "[-0.48966673  1.38467479 -1.31942451] 0\n",
      "[ 0.62954348  0.05716472 -0.2947861 ] 1\n",
      "[-1.89895511  0.50360996  1.29510283] 1\n",
      "[-1.01183653  0.1853427   0.56650651] 0\n",
      "[-1.30331922  0.45990312 -0.63481319] 0\n",
      "[ 2.17053795 -0.72672296  0.79607338] 0\n",
      "[ 0.00790011  0.21739227 -1.30244017] 0\n",
      "[ 0.14661041  0.54279125  0.66915315] 0\n",
      "[-2.84985542  1.20947266 -2.12296462] 0\n",
      "[ 0.62827742 -2.93284345  1.03238988] 1\n",
      "[-0.34010938 -1.44653964  0.50012195] 0\n",
      "[-1.04127276  0.12432127  0.88518256] 1\n",
      "[-0.79831684  0.3612743  -1.0846647 ] 1\n",
      "[ 0.75429583  0.63522702 -0.48730695] 0\n",
      "[ 1.14498711  0.78281093 -0.70703727] 1\n",
      "[ 0.67284989 -1.30752158 -0.46059319] 0\n",
      "[-0.47411701 -0.87723941 -0.05204112] 0\n",
      "[ 0.33634368 -0.21728805  2.59594655] 0\n",
      "[-0.87720245  0.36046204 -0.70163482] 1\n",
      "[-0.74585658  0.80518609 -0.63301384] 0\n",
      "[ 0.89522713 -0.62644178  1.07010436] 1\n",
      "[-0.9113698  -0.94445115 -0.11826135] 0\n",
      "[ 0.42073739 -0.81773174  0.14939146] 1\n",
      "[ 0.13745043  1.39834595  0.06275879] 0\n",
      "[ 1.05953789 -2.32845068 -0.96314949] 0\n",
      "[ 0.65620357  3.3846705   1.98637092] 0\n",
      "[ 2.29254818  0.75071907  0.05385289] 0\n",
      "[ 0.49912581 -0.3581214  -1.83250248] 0\n",
      "[-0.55320156 -0.99077284  1.10021555] 0\n",
      "[ 0.0456105  -2.17573357  1.55692863] 0\n",
      "[ 0.36937842 -1.22789085  1.85957289] 0\n",
      "[-0.07282297  1.08979213  0.39981681] 1\n",
      "[ 1.60230577  1.36859238  0.03960213] 1\n",
      "[-1.30572486 -0.55277365  1.6714828 ] 1\n",
      "[ 0.07987173 -0.48686698 -0.17988028] 0\n",
      "[-0.59629393 -0.40105209  1.65172124] 0\n"
     ]
    }
   ],
   "source": [
    "for _ in range(100):\n",
    "    if coord.should_stop():\n",
    "        break\n",
    "    x, y = sess.run([x_op, y_op])\n",
    "    print(x, y)\n",
    "coord.request_stop()\n",
    "coord.join(enqueue_threads)"
   ]
  },
  {
   "cell_type": "code",
   "execution_count": 104,
   "metadata": {
    "collapsed": true
   },
   "outputs": [],
   "source": [
    "filename_queue = tf.train.string_input_producer([\"big.txt\"])"
   ]
  },
  {
   "cell_type": "code",
   "execution_count": 105,
   "metadata": {
    "collapsed": true
   },
   "outputs": [],
   "source": [
    "reader = tf.TextLineReader()\n",
    "key_op, value_op = reader.read(filename_queue)"
   ]
  },
  {
   "cell_type": "code",
   "execution_count": 106,
   "metadata": {
    "collapsed": true
   },
   "outputs": [],
   "source": [
    "sess = tf.InteractiveSession()\n",
    "coord = tf.train.Coordinator()\n",
    "threads = tf.train.start_queue_runners(coord=coord)"
   ]
  },
  {
   "cell_type": "code",
   "execution_count": 107,
   "metadata": {
    "collapsed": false
   },
   "outputs": [
    {
     "name": "stdout",
     "output_type": "stream",
     "text": [
      "b'big.txt:1' b'The Project Gutenberg EBook of The Adventures of Sherlock Holmes'\n",
      "b'big.txt:2' b'by Sir Arthur Conan Doyle'\n",
      "b'big.txt:3' b'(#15 in our series by Sir Arthur Conan Doyle)'\n",
      "b'big.txt:4' b''\n",
      "b'big.txt:5' b'Copyright laws are changing all over the world. Be sure to check the'\n",
      "b'big.txt:6' b'copyright laws for your country before downloading or redistributing'\n",
      "b'big.txt:7' b'this or any other Project Gutenberg eBook.'\n",
      "b'big.txt:8' b''\n",
      "b'big.txt:9' b'This header should be the first thing seen when viewing this Project'\n",
      "b'big.txt:10' b'Gutenberg file.  Please do not remove it.  Do not change or edit the'\n",
      "b'big.txt:11' b'header without written permission.'\n",
      "b'big.txt:12' b''\n",
      "b'big.txt:13' b'Please read the \"legal small print,\" and other information about the'\n",
      "b'big.txt:14' b'eBook and Project Gutenberg at the bottom of this file.  Included is'\n",
      "b'big.txt:15' b'important information about your specific rights and restrictions in'\n",
      "b'big.txt:16' b'how the file may be used.  You can also find out about how to make a'\n",
      "b'big.txt:17' b'donation to Project Gutenberg, and how to get involved.'\n",
      "b'big.txt:18' b''\n",
      "b'big.txt:19' b''\n",
      "b'big.txt:20' b'**Welcome To The World of Free Plain Vanilla Electronic Texts**'\n",
      "b'big.txt:21' b''\n",
      "b'big.txt:22' b'**eBooks Readable By Both Humans and By Computers, Since 1971**'\n",
      "b'big.txt:23' b''\n",
      "b'big.txt:24' b'*****These eBooks Were Prepared By Thousands of Volunteers!*****'\n",
      "b'big.txt:25' b''\n",
      "b'big.txt:26' b''\n",
      "b'big.txt:27' b'Title: The Adventures of Sherlock Holmes'\n",
      "b'big.txt:28' b''\n",
      "b'big.txt:29' b'Author: Sir Arthur Conan Doyle'\n",
      "b'big.txt:30' b''\n",
      "b'big.txt:31' b'Release Date: March, 1999  [EBook #1661]'\n",
      "b'big.txt:32' b'[Most recently updated: November 29, 2002]'\n",
      "b'big.txt:33' b''\n",
      "b'big.txt:34' b'Edition: 12'\n",
      "b'big.txt:35' b''\n",
      "b'big.txt:36' b'Language: English'\n",
      "b'big.txt:37' b''\n",
      "b'big.txt:38' b'Character set encoding: ASCII'\n",
      "b'big.txt:39' b''\n",
      "b'big.txt:40' b'*** START OF THE PROJECT GUTENBERG EBOOK, THE ADVENTURES OF SHERLOCK HOLMES ***'\n",
      "b'big.txt:41' b''\n",
      "b'big.txt:42' b''\n",
      "b'big.txt:43' b''\n",
      "b'big.txt:44' b''\n",
      "b'big.txt:45' b'(Additional editing by Jose Menendez)'\n",
      "b'big.txt:46' b''\n",
      "b'big.txt:47' b''\n",
      "b'big.txt:48' b''\n",
      "b'big.txt:49' b'THE ADVENTURES OF'\n",
      "b'big.txt:50' b'SHERLOCK HOLMES'\n",
      "b'big.txt:51' b''\n",
      "b'big.txt:52' b'BY'\n",
      "b'big.txt:53' b''\n",
      "b'big.txt:54' b'SIR ARTHUR CONAN DOYLE'\n",
      "b'big.txt:55' b''\n",
      "b'big.txt:56' b'CONTENTS'\n",
      "b'big.txt:57' b''\n",
      "b'big.txt:58' b'I.\\tA Scandal in Bohemia'\n",
      "b'big.txt:59' b'II.\\tThe Red-Headed League'\n",
      "b'big.txt:60' b'III.\\tA Case of Identity'\n",
      "b'big.txt:61' b'IV.\\tThe Boscombe Valley Mystery'\n",
      "b'big.txt:62' b'V.\\tThe Five Orange Pips'\n",
      "b'big.txt:63' b'VI.\\tThe Man with the Twisted Lip'\n",
      "b'big.txt:64' b'VII.\\tThe Adventure of the Blue Carbuncle'\n",
      "b'big.txt:65' b'VIII.\\tThe Adventure of the Speckled Band'\n",
      "b'big.txt:66' b\"IX.\\tThe Adventure of the Engineer's Thumb\"\n",
      "b'big.txt:67' b'X.\\tThe Adventure of the Noble Bachelor'\n",
      "b'big.txt:68' b'XI.\\tThe Adventure of the Beryl Coronet'\n",
      "b'big.txt:69' b'XII.\\tThe Adventure of the Copper Beeches'\n",
      "b'big.txt:70' b''\n",
      "b'big.txt:71' b''\n",
      "b'big.txt:72' b'ADVENTURE  I.  A SCANDAL IN BOHEMIA'\n",
      "b'big.txt:73' b''\n",
      "b'big.txt:74' b'I.'\n",
      "b'big.txt:75' b''\n",
      "b'big.txt:76' b''\n",
      "b'big.txt:77' b\"To Sherlock Holmes she is always the woman. I have seldom heard him mention her under any other name. In his eyes she eclipses and predominates the whole of her sex. It was not that he felt any emotion akin to love for Irene Adler. All emotions, and that one particularly, were abhorrent to his cold, precise but admirably balanced mind. He was, I take it, the most perfect reasoning and observing machine that the world has seen, but as a lover he would have placed himself in a false position. He never spoke of the softer passions, save with a gibe and a sneer. They were admirable things for the observer--excellent for drawing the veil from men's motives and actions. But for the trained reasoner to admit such intrusions into his own delicate and finely adjusted temperament was to introduce a distracting factor which might throw a doubt upon all his mental results. Grit in a sensitive instrument, or a crack in one of his own high-power lenses, would not be more disturbing than a strong emotion in a nature such as his. And yet there was but one woman to him, and that woman was the late Irene Adler, of dubious and questionable memory.\"\n",
      "b'big.txt:78' b''\n",
      "b'big.txt:79' b'I had seen little of Holmes lately. My marriage had drifted us away from each other. My own complete happiness, and the home-centred interests which rise up around the man who first finds himself master of his own establishment, were sufficient to absorb all my attention, while Holmes, who loathed every form of society with his whole Bohemian soul, remained in our lodgings in Baker Street, buried among his old books, and alternating from week to week between cocaine and ambition, the drowsiness of the drug, and the fierce energy of his own keen nature. He was still, as ever, deeply attracted by the study of crime, and occupied his immense faculties and extraordinary powers of observation in following out those clues, and clearing up those mysteries which had been abandoned as hopeless by the official police. From time to time I heard some vague account of his doings: of his summons to Odessa in the case of the Trepoff murder, of his clearing up of the singular tragedy of the Atkinson brothers at Trincomalee, and finally of the mission which he had accomplished so delicately and successfully for the reigning family of Holland. Beyond these signs of his activity, however, which I merely shared with all the readers of the daily press, I knew little of my former friend and companion.'\n",
      "b'big.txt:80' b''\n",
      "b'big.txt:81' b'One night--it was on the twentieth of March, 1888--I was returning from a journey to a patient (for I had now returned to civil practice), when my way led me through Baker Street. As I passed the well-remembered door, which must always be associated in my mind with my wooing, and with the dark incidents of the Study in Scarlet, I was seized with a keen desire to see Holmes again, and to know how he was employing his extraordinary powers. His rooms were brilliantly lit, and, even as I looked up, I saw his tall, spare figure pass twice in a dark silhouette against the blind. He was pacing the room swiftly, eagerly, with his head sunk upon his chest and his hands clasped behind him. To me, who knew his every mood and habit, his attitude and manner told their own story. He was at work again. He had risen out of his drug-created dreams and was hot upon the scent of some new problem. I rang the bell and was shown up to the chamber which had formerly been in part my own.'\n",
      "b'big.txt:82' b''\n",
      "b'big.txt:83' b'His manner was not effusive. It seldom was; but he was glad, I think, to see me. With hardly a word spoken, but with a kindly eye, he waved me to an armchair, threw across his case of cigars, and indicated a spirit case and a gasogene in the corner. Then he stood before the fire and looked me over in his singular introspective fashion.'\n",
      "b'big.txt:84' b''\n",
      "b'big.txt:85' b'\"Wedlock suits you,\" he remarked. \"I think, Watson, that you have put on seven and a half pounds since I saw you.\"'\n",
      "b'big.txt:86' b''\n",
      "b'big.txt:87' b'\"Seven!\" I answered.'\n",
      "b'big.txt:88' b''\n",
      "b'big.txt:89' b'\"Indeed, I should have thought a little more. Just a trifle more, I fancy, Watson. And in practice again, I observe. You did not tell me that you intended to go into harness.\"'\n",
      "b'big.txt:90' b''\n",
      "b'big.txt:91' b'\"Then, how do you know?\"'\n",
      "b'big.txt:92' b''\n",
      "b'big.txt:93' b'\"I see it, I deduce it. How do I know that you have been getting yourself very wet lately, and that you have a most clumsy and careless servant girl?\"'\n",
      "b'big.txt:94' b''\n",
      "b'big.txt:95' b'\"My dear Holmes,\" said I, \"this is too much. You would certainly have been burned, had you lived a few centuries ago. It is true that I had a country walk on Thursday and came home in a dreadful mess, but as I have changed my clothes I can\\'t imagine how you deduce it. As to Mary Jane, she is incorrigible, and my wife has given her notice, but there, again, I fail to see how you work it out.\"'\n",
      "b'big.txt:96' b''\n",
      "b'big.txt:97' b'He chuckled to himself and rubbed his long, nervous hands together.'\n",
      "b'big.txt:98' b''\n",
      "b'big.txt:99' b'\"It is simplicity itself,\" said he; \"my eyes tell me that on the inside of your left shoe, just where the firelight strikes it, the leather is scored by six almost parallel cuts. Obviously they have been caused by someone who has very carelessly scraped round the edges of the sole in order to remove crusted mud from it. Hence, you see, my double deduction that you had been out in vile weather, and that you had a particularly malignant boot-slitting specimen of the London slavey. As to your practice, if a gentleman walks into my rooms smelling of iodoform, with a black mark of nitrate of silver upon his right forefinger, and a bulge on the right side of his top-hat to show where he has secreted his stethoscope, I must be dull, indeed, if I do not pronounce him to be an active member of the medical profession.\"'\n",
      "b'big.txt:100' b''\n"
     ]
    }
   ],
   "source": [
    "for i in range(100):\n",
    "    key, value = sess.run([key_op, value_op])\n",
    "    print(key, value)"
   ]
  }
 ],
 "metadata": {
  "kernelspec": {
   "display_name": "Python 3",
   "language": "python",
   "name": "python3"
  },
  "language_info": {
   "codemirror_mode": {
    "name": "ipython",
    "version": 3
   },
   "file_extension": ".py",
   "mimetype": "text/x-python",
   "name": "python",
   "nbconvert_exporter": "python",
   "pygments_lexer": "ipython3",
   "version": "3.5.1rc1"
  }
 },
 "nbformat": 4,
 "nbformat_minor": 2
}
