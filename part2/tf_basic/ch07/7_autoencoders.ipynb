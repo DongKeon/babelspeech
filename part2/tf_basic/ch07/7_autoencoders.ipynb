{
 "cells": [
  {
   "cell_type": "markdown",
   "metadata": {},
   "source": [
    "## 바벨스피치 Part2 - 2회차 스터디 안내\n",
    "\n",
    "- [바벨스피치 스터디 github 주소](https://github.com/KaggleBreak/babelspeech)\n",
    "- [바벨스피치 스터디 자료 보관 구글드라이브 주소](https://drive.google.com/drive/folders/0B2l0iH28o85xRG5KSHM3QlpiRjg)\n",
    "- [바벨스피치 스터디 스케줄](https://docs.google.com/spreadsheets/d/1vO5M5ygTE9P0TAMSpgR3Aw4Y_tO4l59ZzOqbcNKyphs/edit?usp=drive_web)\n",
    "- [바벨피쉬 페이스북](https://www.facebook.com/groups/babelPish/)\n",
    "- [캐글뽀개기 페이스북](https://www.facebook.com/groups/kagglebreak)\n",
    "\n",
    "\n",
    "## 7 A peek into autoencoders\n",
    "\n",
    "### - Introduction to neural networks\n",
    "### - Designing autoencoders\n",
    "### - Representing images using an autoencoder\n",
    "\n",
    "![7_0](./img/07_00.png)\n",
    "\n",
    "- 멜로디를 윙윙 거리는 사람의 노래를 확인한 적이 있습니까? \n",
    "- 그것은 당신을 위해 쉬울지도 모르지만, 음악에 관해서는 나는 코믹하게 색조가 흐트러집니다. 허밍은 그 자체로 노래의 근사치입니다. \n",
    "- 더 좋은 근사는 노래 일 수 있습니다. 악기의 일부를 포함하고 때로는 노래의 커버가 원본과 구별되지 않는 것처럼 들립니다.\n",
    "- 함수는 입력과 출력 사이의 매우 일반적인 개념입니다. 기계 학습에서 일반적으로 입력을 출력과 관련시키는 기능을 찾고자합니다. 최상의 기능을 찾는 것은 어렵지만 기능을 근사하는 것이 훨씬 쉽습니다.\n",
    "- 편리하게도, 인공 신경망은 모든 기능을 근사시킬 수있는 기계 학습의 모델입니다. 우리가 배웠 듯이, 우리 모델은 우리가 가지고있는 투입물을 고려할 때 우리가 찾고있는 결과물을 제공하는 함수입니다. ML 데이터에서, 주어진 훈련 데이터를 통해 우리는 데이터를 생성했을 수도있는 암시적 함수를 가장 근사하게 만드는 신경망 모델을 만들려고합니다. 즉, 우리에게 정확한 답을 주지는 못하지만 유용하기에 충분할 수있는 모델입니다.\n",
    "\n",
    "### 7.1 Neural Networks\n",
    "\n",
    "- 혹시 신경 네트워크에 대해 들어본 적이 있다면 복잡한 망으로 연결된 노드와 에지의 다이어그램을 보았을 것입니다. \n",
    "- 시각화의 동기는 주로 생물학, 특히 뇌의 신경 세포에 의해 영향을 받습니다. 이것은 그림 7.1의 f (x) = w * x + b와 같은 함수를 시각화하는 편리한 방법이기도합니다\n",
    "\n",
    "![7_1](./img/07_01.png)\n",
    "\n",
    "- 다시 말하면 선형 모델은 선형함수 집합입니다. 예를 들어, f (x) = w * x + b, 여기서 (w, b)는 매개 변수의 벡터입니다. \n",
    "- 학습 알고리즘은 데이터와 가장 잘 일치하는 조합을 찾을 때까지 w와 b의 값 주위를 이동합니다. 알고리즘이 성공적으로 수렴되면 데이터를 설명하는 최상의 선형 함수를 찾습니다.\n",
    "- Linear는 좋은 시작이지만 실제 세계는 언제나 그렇게 예쁜 것은 아닙니다. 그래서 우리는 TensorFlow의 시작에 책임이있는 유형의 기계학습에 뛰어 들었습니다. 이 장에서는 인공 신경망 (artificial neural network)이라는 모델 유형에 대한 첫 번째 소개가 될 것인데, 인공 신경망은 선형 함수뿐만 아니라 임의의 함수를 근사시킬 수 있습니다.\n",
    "\n",
    "![7_2](./img/07_02.png)\n",
    "\n",
    "- 비선형성의 개념을 통합하기 위해서는 각 뉴런의 출력에 활성화 함수라고하는 비선형 함수를 적용하는 것이 효과적입니다. 가장 일반적으로 사용되는 활성화 함수 중 세 개는 sigmoid (sig), hyperbolic tangent (tanh) 및 ReLu입니다 (그림 7.2 참조).\n",
    "- 어떤 상황에서 어떤 활성화 기능이 더 나은지에 대해 너무 걱정할 필요가 없습니다. 그것은 여전히 꽤 활발한 연구 주제입니다. 그림 7.2의 세 가지를 자유롭게 실험 해보십시오. 일반적으로 교차 유효성 검사를 사용하여 가장 적합한 모델을 선택하여 우리가 작업중인 데이터 세트 중 어떤 모델이 최상의 모델인지 결정합니다. \n",
    "\n",
    "![7_3](./img/07_03.png)\n",
    "\n",
    "- 시그모이드 함수는 우리에게 새로운 것이 아닙니다. 기억한다면 4 장의 로지스틱 회귀 분류기는 이 시그모이드 함수를 선형 함수 w*x + b에 적용했습니다. \n",
    "- 그림 7.3의 신경망 모델은 함수 f (x) = sig (w * x + b)를 나타냅니다. 이것은 1- 입력 및 1- 출력 네트워크이며, 여기서 w 및 b는이 모델의 매개 변수입니다.\n",
    "\n",
    "![7_4](./img/07_04.png)\n",
    "\n",
    "- 대신에 우리가 두 개의 입력 (x1과 x2)을 가지고 있다면 우리의 신경망을 그림 7.4에서와 같이 수정할 수 있습니다. 훈련 데이터 및 비용 함수가 주어지면 학습 할 매개 변수는 w1, w2 및 b입니다. 데이터를 모델링하려고 할 때 함수에 여러 입력을하는 것은 매우 일반적입니다. 예를 들어 이미지 분류는 전체 이미지 (픽셀 단위)를 입력으로 사용합니다.\n",
    "\n",
    "- 당연히 우리는 임의의 수의 입력 (x1, x2, ..., xn)으로 일반화 할 수 있습니다. 해당 뉴럴 네트워크는 함수를 나타냅니다.\n",
    "\n",
    "![7_5](./img/07_05.png)\n",
    "\n",
    "-  지금까지 입력 레이어와 출력 레이어만 다루었습니다. 그 사이에 뉴런을 임의로 추가하는 것을 막을 수는 없습니다. 입력이나 출력으로 사용되지 않는 뉴런은 숨겨진 뉴런이라고합니다. \n",
    "\n",
    "- 그것들은 신경망의 입력 및 출력 인터페이스에 숨겨져 있어 아무도 자신의 가치에 직접적으로 영향을 줄 수 없습니다. 숨겨진 레이어는 그림 7.6에서 볼 수 있듯이 서로 연결되어 있지 않은 숨겨진 뉴런 컬렉션입니다. 숨겨진 레이어를 추가하면 네트워크의 표현력이 크게 향상됩니다.\n",
    "\n",
    "- 활성화 함수가 비선형인 한 적어도 하나의 숨겨진 레이어가 있는 신경망은 임의 함수를 근사 할 수 있습니다. \n",
    "- 선형 모델에서 어떤 매개 변수가 학습 되더라도 기능은 선형으로 유지됩니다. 반면에 숨겨진 레이어가 있는 비선형 신경망 모델은 거의 모든 함수를 나타낼 정도로 유연합니다.\n",
    "\n",
    "![7_6](./img/07_06.png)\n",
    "\n",
    "- TensorFlow에는 효율적인 방법으로 신경망의 매개 변수를 얻는 데 도움이되는 많은 도우미 함수가 있습니다. \n",
    "- autoencoders라고 하는 최초의 신경 네트워크 아키텍처를 사용할 때 이 장에서 이러한 도구를 호출하는 방법을 살펴 보겠습니다."
   ]
  },
  {
   "cell_type": "markdown",
   "metadata": {},
   "source": [
    "### 7.2 Autoencoder\n",
    "\n",
    "- autoencoder는 출력을 가능한 입력에 가깝게 만드는 매개 변수를 학습하려고하는 신경망 유형입니다. 이를 수행하는 확실한 방법은 그림 7.7과 같이 입력을 직접 반환하는 것입니다.\n",
    "\n",
    "![7_7](./img/07_07.png)\n",
    "\n",
    "- 그러나 autoencoder가 그보다 더 흥미롭습니다. 그것은 작은 숨겨진 레이어가 포함되어 있습니다! 숨겨진 레이어의 크기가 입력보다 작으면 숨겨진 레이어는 인코딩이라는 데이터의 압축입니다.\n",
    "\n",
    "#### 실제 세계에서의 데이터 인코딩\n",
    "- 몇 가지 오디오 포맷이 있지만 가장 인기있는 파일 크기가 비교적 작기 때문에 MP3 일 수 있습니다. \n",
    "- 이러한 효율적인 저장 장치는 절충점이 있다는 것을 이미 짐작할 수 있습니다. MP3 파일을 생성하는 알고리즘은 원래의 압축되지 않은 오디오를 취해 거의 귀가 소리가 나는 훨씬 작은 파일로 압축합니다. 그러나 손실이 있습니다. \n",
    "- 즉, 원래의 비 압축 오디오를 인코딩된 버전에서 완전히 복구 할 수 없게 됩니다. 이 장에서도 마찬가지로 데이터의 차원을 줄여서 작업을 보다 효율적으로 만들려고하지만 완벽한 재생산은 아닙니다.\n",
    "- 숨겨진 레이어에서 입력을 재구성하는 과정을 디코딩이라고합니다. 그림 7.8은 autoencoder의 과장된 예를 보여줍니다.\n",
    "\n",
    "![7_8](./img/07_08.png)\n",
    "\n",
    "- 인코딩은 입력의 크기를 줄이는 좋은 방법입니다. 예를 들어 숨겨진 노드 100 개에 256x256 이미지를 표현할 수 있다면 각 데이터 항목을 수천 배로 줄일 수 있습니다.\n",
    "\n",
    "- 자동 인코딩을 구현하려면 객체 지향 프로그래밍 스타일을 사용하는 것이 좋습니다. 그런 식으로 나중에 긴밀하게 결합 된 코드에 대한 걱정없이 다른 응용 프로그램에서 클래스를 재사용 할 수 있습니다. 사실, Listing 7.1에 나와있는 코드를 작성하면 stacked autoencoder와 같은 보다 심층적 인 아키텍처를 빌드하는 데 도움이 됩니다.\n",
    "\n",
    "- 일반적으로 신경망에서는 더 많은 숨겨진 레이어를 추가하면 모델을 초과 구현할 데이터가 충분하지 않은 경우 성능이 향상됩니다."
   ]
  },
  {
   "cell_type": "code",
   "execution_count": 1,
   "metadata": {
    "collapsed": true
   },
   "outputs": [],
   "source": [
    "import tensorflow as tf\n",
    "import numpy as np"
   ]
  },
  {
   "cell_type": "markdown",
   "metadata": {},
   "source": [
    "- 모든 훈련 데이터를 훈련 과정에 제공하는 대신 작은 배치로 데이터를 제공합니다."
   ]
  },
  {
   "cell_type": "code",
   "execution_count": 2,
   "metadata": {
    "collapsed": true
   },
   "outputs": [],
   "source": [
    "def get_batch(X, size):\n",
    "    a = np.random.choice(len(X), size, replace=False)\n",
    "    return X[a]"
   ]
  },
  {
   "cell_type": "code",
   "execution_count": 4,
   "metadata": {
    "collapsed": true
   },
   "outputs": [],
   "source": [
    "class Autoencoder:\n",
    "    def __init__(self, input_dim, hidden_dim, epoch=500, batch_size=10, learning_rate=0.001):\n",
    "        self.epoch = epoch\n",
    "        self.batch_size = batch_size\n",
    "        self.learning_rate = learning_rate\n",
    "\n",
    "        # Define input placeholder\n",
    "        x = tf.placeholder(dtype=tf.float32, shape=[None, input_dim])\n",
    "        \n",
    "        # Define variables\n",
    "        with tf.name_scope('encode'):\n",
    "            weights = tf.Variable(tf.random_normal([input_dim, hidden_dim], dtype=tf.float32), name='weights')\n",
    "            biases = tf.Variable(tf.zeros([hidden_dim]), name='biases')\n",
    "            encoded = tf.nn.sigmoid(tf.matmul(x, weights) + biases)\n",
    "        with tf.name_scope('decode'):\n",
    "            weights = tf.Variable(tf.random_normal([hidden_dim, input_dim], dtype=tf.float32), name='weights')\n",
    "            biases = tf.Variable(tf.zeros([input_dim]), name='biases')\n",
    "            decoded = tf.matmul(encoded, weights) + biases\n",
    "\n",
    "        self.x = x\n",
    "        self.encoded = encoded\n",
    "        self.decoded = decoded\n",
    "\n",
    "        # Define cost function and training op\n",
    "        self.loss = tf.sqrt(tf.reduce_mean(tf.square(tf.subtract(self.x, self.decoded))))\n",
    "\n",
    "        self.all_loss = tf.sqrt(tf.reduce_mean(tf.square(tf.subtract(self.x, self.decoded)), 1))\n",
    "        self.train_op = tf.train.AdamOptimizer(self.learning_rate).minimize(self.loss)\n",
    "        \n",
    "        # Define a saver op\n",
    "        self.saver = tf.train.Saver()\n",
    "\n",
    "    def train(self, data):\n",
    "        with tf.Session() as sess:\n",
    "            sess.run(tf.global_variables_initializer())\n",
    "            for i in range(self.epoch):\n",
    "                for j in range(500):\n",
    "                    batch_data = get_batch(data, self.batch_size)\n",
    "                    l, _ = sess.run([self.loss, self.train_op], feed_dict={self.x: batch_data})\n",
    "                if i % 50 == 0:\n",
    "                    print('epoch {0}: loss = {1}'.format(i, l))\n",
    "                    self.saver.save(sess, './model.ckpt')\n",
    "            self.saver.save(sess, './model.ckpt')\n",
    "        \n",
    "    def test(self, data):\n",
    "        with tf.Session() as sess:\n",
    "            self.saver.restore(sess, './model.ckpt')\n",
    "            hidden, reconstructed = sess.run([self.encoded, self.decoded], feed_dict={self.x: data})\n",
    "        print('input', data)\n",
    "        print('compressed', hidden)\n",
    "        print('reconstructed', reconstructed)\n",
    "        return reconstructed\n",
    "\n",
    "    def get_params(self):\n",
    "        with tf.Session() as sess:\n",
    "            self.saver.restore(sess, './model.ckpt')\n",
    "            weights, biases = sess.run([self.weights1, self.biases1])\n",
    "        return weights, biases\n",
    "\n",
    "    def classify(self, data, labels):\n",
    "        with tf.Session() as sess:\n",
    "            sess.run(tf.global_variables_initializer())\n",
    "            self.saver.restore(sess, './model.ckpt')\n",
    "            hidden, reconstructed = sess.run([self.encoded, self.decoded], feed_dict={self.x: data})\n",
    "            reconstructed = reconstructed[0]\n",
    "            # loss = sess.run(self.all_loss, feed_dict={self.x: data})\n",
    "            print('data', np.shape(data))\n",
    "            print('reconstructed', np.shape(reconstructed))\n",
    "            loss = np.sqrt(np.mean(np.square(data - reconstructed), axis=1))\n",
    "            print('loss', np.shape(loss))\n",
    "            horse_indices = np.where(labels == 7)[0]\n",
    "            not_horse_indices = np.where(labels != 7)[0]\n",
    "            horse_loss = np.mean(loss[horse_indices])\n",
    "            not_horse_loss = np.mean(loss[not_horse_indices])\n",
    "            print('horse', horse_loss)\n",
    "            print('not horse', not_horse_loss)\n",
    "            return hidden[7,:]\n",
    "\n",
    "    def decode(self, encoding):\n",
    "        with tf.Session() as sess:\n",
    "            sess.run(tf.global_variables_initializer())\n",
    "            self.saver.restore(sess, './model.ckpt')\n",
    "            reconstructed = sess.run(self.decoded, feed_dict={self.encoded: encoding})\n",
    "        img = np.reshape(reconstructed, (32, 32))\n",
    "        return img"
   ]
  },
  {
   "cell_type": "markdown",
   "metadata": {},
   "source": [
    "- 새로운 파이썬 소스 파일을 열고 autoencoder.py라고 부르자. 이 파일은 별도의 코드에서 사용할 자동 코드 클래스를 저장합니다.\n",
    "- 생성자는 모든 TensorFlow 변수, 자리 표시 자, 옵티마이저 및 연산자를 설정합니다. 세션을 즉시 필요로 하지 않는 것은 생성자에 들어갈 수 있습니다. \n",
    "- 우리는 두 세트의 가중치와 편향 (인코딩 단계와 디코딩을위한 것)을 처리하기 때문에 TensorFlow의 이름 범위를 사용하여 변수의 이름을 명확히 할 수 있습니다.\n",
    "- 예를 들어, 목록 7.2(encode, decode)는 명명 된 범위 내에서 변수를 정의하는 예를 보여줍니다. 이제는 이름 충돌을 걱정하지 않고이 변수를 완벽하게 저장하고 복원 할 수 있습니다.\n",
    "- 이제 목록 7.3에서 train이라는 클래스 메서드를 정의하고 데이터 집합을 받고 손실을 최소화하는 매개 변수를 배웁니다.\n",
    "- 이제 임의의 데이터에서 autoencoder를 학습하는 알고리즘을 설계 할 수있는 충분한 코드가 있습니다. 이 클래스를 사용하기 전에 한 가지 더 많은 메소드를 작성해 보겠습니다. Listing 7.4에서 볼 수 있듯이 테스트 메소드를 사용하면 새 데이터에 대한 자동 인코딩 프로그램을 평가할 수있다."
   ]
  },
  {
   "cell_type": "markdown",
   "metadata": {},
   "source": [
    "- Iris 데이터 세트는 분류 알고리즘이 작동하는지 여부를 확인하기 위한 간단한 교육 데이터 세트로 자주 사용됩니다. sklearn 라이브러리에는 sklearn이 설치되어 있습니다."
   ]
  },
  {
   "cell_type": "code",
   "execution_count": 5,
   "metadata": {
    "collapsed": true
   },
   "outputs": [],
   "source": [
    "from sklearn import datasets\n",
    "\n",
    "hidden_dim = 1\n",
    "data = datasets.load_iris().data\n",
    "input_dim = len(data[0])"
   ]
  },
  {
   "cell_type": "code",
   "execution_count": 6,
   "metadata": {
    "collapsed": false
   },
   "outputs": [
    {
     "data": {
      "text/plain": [
       "4"
      ]
     },
     "execution_count": 6,
     "metadata": {},
     "output_type": "execute_result"
    }
   ],
   "source": [
    "input_dim"
   ]
  },
  {
   "cell_type": "code",
   "execution_count": 7,
   "metadata": {
    "collapsed": false
   },
   "outputs": [
    {
     "data": {
      "text/plain": [
       "array([[ 5.1,  3.5,  1.4,  0.2],\n",
       "       [ 4.9,  3. ,  1.4,  0.2],\n",
       "       [ 4.7,  3.2,  1.3,  0.2],\n",
       "       [ 4.6,  3.1,  1.5,  0.2],\n",
       "       [ 5. ,  3.6,  1.4,  0.2],\n",
       "       [ 5.4,  3.9,  1.7,  0.4],\n",
       "       [ 4.6,  3.4,  1.4,  0.3],\n",
       "       [ 5. ,  3.4,  1.5,  0.2],\n",
       "       [ 4.4,  2.9,  1.4,  0.2],\n",
       "       [ 4.9,  3.1,  1.5,  0.1],\n",
       "       [ 5.4,  3.7,  1.5,  0.2],\n",
       "       [ 4.8,  3.4,  1.6,  0.2],\n",
       "       [ 4.8,  3. ,  1.4,  0.1],\n",
       "       [ 4.3,  3. ,  1.1,  0.1],\n",
       "       [ 5.8,  4. ,  1.2,  0.2],\n",
       "       [ 5.7,  4.4,  1.5,  0.4],\n",
       "       [ 5.4,  3.9,  1.3,  0.4],\n",
       "       [ 5.1,  3.5,  1.4,  0.3],\n",
       "       [ 5.7,  3.8,  1.7,  0.3],\n",
       "       [ 5.1,  3.8,  1.5,  0.3],\n",
       "       [ 5.4,  3.4,  1.7,  0.2],\n",
       "       [ 5.1,  3.7,  1.5,  0.4],\n",
       "       [ 4.6,  3.6,  1. ,  0.2],\n",
       "       [ 5.1,  3.3,  1.7,  0.5],\n",
       "       [ 4.8,  3.4,  1.9,  0.2],\n",
       "       [ 5. ,  3. ,  1.6,  0.2],\n",
       "       [ 5. ,  3.4,  1.6,  0.4],\n",
       "       [ 5.2,  3.5,  1.5,  0.2],\n",
       "       [ 5.2,  3.4,  1.4,  0.2],\n",
       "       [ 4.7,  3.2,  1.6,  0.2],\n",
       "       [ 4.8,  3.1,  1.6,  0.2],\n",
       "       [ 5.4,  3.4,  1.5,  0.4],\n",
       "       [ 5.2,  4.1,  1.5,  0.1],\n",
       "       [ 5.5,  4.2,  1.4,  0.2],\n",
       "       [ 4.9,  3.1,  1.5,  0.1],\n",
       "       [ 5. ,  3.2,  1.2,  0.2],\n",
       "       [ 5.5,  3.5,  1.3,  0.2],\n",
       "       [ 4.9,  3.1,  1.5,  0.1],\n",
       "       [ 4.4,  3. ,  1.3,  0.2],\n",
       "       [ 5.1,  3.4,  1.5,  0.2],\n",
       "       [ 5. ,  3.5,  1.3,  0.3],\n",
       "       [ 4.5,  2.3,  1.3,  0.3],\n",
       "       [ 4.4,  3.2,  1.3,  0.2],\n",
       "       [ 5. ,  3.5,  1.6,  0.6],\n",
       "       [ 5.1,  3.8,  1.9,  0.4],\n",
       "       [ 4.8,  3. ,  1.4,  0.3],\n",
       "       [ 5.1,  3.8,  1.6,  0.2],\n",
       "       [ 4.6,  3.2,  1.4,  0.2],\n",
       "       [ 5.3,  3.7,  1.5,  0.2],\n",
       "       [ 5. ,  3.3,  1.4,  0.2],\n",
       "       [ 7. ,  3.2,  4.7,  1.4],\n",
       "       [ 6.4,  3.2,  4.5,  1.5],\n",
       "       [ 6.9,  3.1,  4.9,  1.5],\n",
       "       [ 5.5,  2.3,  4. ,  1.3],\n",
       "       [ 6.5,  2.8,  4.6,  1.5],\n",
       "       [ 5.7,  2.8,  4.5,  1.3],\n",
       "       [ 6.3,  3.3,  4.7,  1.6],\n",
       "       [ 4.9,  2.4,  3.3,  1. ],\n",
       "       [ 6.6,  2.9,  4.6,  1.3],\n",
       "       [ 5.2,  2.7,  3.9,  1.4],\n",
       "       [ 5. ,  2. ,  3.5,  1. ],\n",
       "       [ 5.9,  3. ,  4.2,  1.5],\n",
       "       [ 6. ,  2.2,  4. ,  1. ],\n",
       "       [ 6.1,  2.9,  4.7,  1.4],\n",
       "       [ 5.6,  2.9,  3.6,  1.3],\n",
       "       [ 6.7,  3.1,  4.4,  1.4],\n",
       "       [ 5.6,  3. ,  4.5,  1.5],\n",
       "       [ 5.8,  2.7,  4.1,  1. ],\n",
       "       [ 6.2,  2.2,  4.5,  1.5],\n",
       "       [ 5.6,  2.5,  3.9,  1.1],\n",
       "       [ 5.9,  3.2,  4.8,  1.8],\n",
       "       [ 6.1,  2.8,  4. ,  1.3],\n",
       "       [ 6.3,  2.5,  4.9,  1.5],\n",
       "       [ 6.1,  2.8,  4.7,  1.2],\n",
       "       [ 6.4,  2.9,  4.3,  1.3],\n",
       "       [ 6.6,  3. ,  4.4,  1.4],\n",
       "       [ 6.8,  2.8,  4.8,  1.4],\n",
       "       [ 6.7,  3. ,  5. ,  1.7],\n",
       "       [ 6. ,  2.9,  4.5,  1.5],\n",
       "       [ 5.7,  2.6,  3.5,  1. ],\n",
       "       [ 5.5,  2.4,  3.8,  1.1],\n",
       "       [ 5.5,  2.4,  3.7,  1. ],\n",
       "       [ 5.8,  2.7,  3.9,  1.2],\n",
       "       [ 6. ,  2.7,  5.1,  1.6],\n",
       "       [ 5.4,  3. ,  4.5,  1.5],\n",
       "       [ 6. ,  3.4,  4.5,  1.6],\n",
       "       [ 6.7,  3.1,  4.7,  1.5],\n",
       "       [ 6.3,  2.3,  4.4,  1.3],\n",
       "       [ 5.6,  3. ,  4.1,  1.3],\n",
       "       [ 5.5,  2.5,  4. ,  1.3],\n",
       "       [ 5.5,  2.6,  4.4,  1.2],\n",
       "       [ 6.1,  3. ,  4.6,  1.4],\n",
       "       [ 5.8,  2.6,  4. ,  1.2],\n",
       "       [ 5. ,  2.3,  3.3,  1. ],\n",
       "       [ 5.6,  2.7,  4.2,  1.3],\n",
       "       [ 5.7,  3. ,  4.2,  1.2],\n",
       "       [ 5.7,  2.9,  4.2,  1.3],\n",
       "       [ 6.2,  2.9,  4.3,  1.3],\n",
       "       [ 5.1,  2.5,  3. ,  1.1],\n",
       "       [ 5.7,  2.8,  4.1,  1.3],\n",
       "       [ 6.3,  3.3,  6. ,  2.5],\n",
       "       [ 5.8,  2.7,  5.1,  1.9],\n",
       "       [ 7.1,  3. ,  5.9,  2.1],\n",
       "       [ 6.3,  2.9,  5.6,  1.8],\n",
       "       [ 6.5,  3. ,  5.8,  2.2],\n",
       "       [ 7.6,  3. ,  6.6,  2.1],\n",
       "       [ 4.9,  2.5,  4.5,  1.7],\n",
       "       [ 7.3,  2.9,  6.3,  1.8],\n",
       "       [ 6.7,  2.5,  5.8,  1.8],\n",
       "       [ 7.2,  3.6,  6.1,  2.5],\n",
       "       [ 6.5,  3.2,  5.1,  2. ],\n",
       "       [ 6.4,  2.7,  5.3,  1.9],\n",
       "       [ 6.8,  3. ,  5.5,  2.1],\n",
       "       [ 5.7,  2.5,  5. ,  2. ],\n",
       "       [ 5.8,  2.8,  5.1,  2.4],\n",
       "       [ 6.4,  3.2,  5.3,  2.3],\n",
       "       [ 6.5,  3. ,  5.5,  1.8],\n",
       "       [ 7.7,  3.8,  6.7,  2.2],\n",
       "       [ 7.7,  2.6,  6.9,  2.3],\n",
       "       [ 6. ,  2.2,  5. ,  1.5],\n",
       "       [ 6.9,  3.2,  5.7,  2.3],\n",
       "       [ 5.6,  2.8,  4.9,  2. ],\n",
       "       [ 7.7,  2.8,  6.7,  2. ],\n",
       "       [ 6.3,  2.7,  4.9,  1.8],\n",
       "       [ 6.7,  3.3,  5.7,  2.1],\n",
       "       [ 7.2,  3.2,  6. ,  1.8],\n",
       "       [ 6.2,  2.8,  4.8,  1.8],\n",
       "       [ 6.1,  3. ,  4.9,  1.8],\n",
       "       [ 6.4,  2.8,  5.6,  2.1],\n",
       "       [ 7.2,  3. ,  5.8,  1.6],\n",
       "       [ 7.4,  2.8,  6.1,  1.9],\n",
       "       [ 7.9,  3.8,  6.4,  2. ],\n",
       "       [ 6.4,  2.8,  5.6,  2.2],\n",
       "       [ 6.3,  2.8,  5.1,  1.5],\n",
       "       [ 6.1,  2.6,  5.6,  1.4],\n",
       "       [ 7.7,  3. ,  6.1,  2.3],\n",
       "       [ 6.3,  3.4,  5.6,  2.4],\n",
       "       [ 6.4,  3.1,  5.5,  1.8],\n",
       "       [ 6. ,  3. ,  4.8,  1.8],\n",
       "       [ 6.9,  3.1,  5.4,  2.1],\n",
       "       [ 6.7,  3.1,  5.6,  2.4],\n",
       "       [ 6.9,  3.1,  5.1,  2.3],\n",
       "       [ 5.8,  2.7,  5.1,  1.9],\n",
       "       [ 6.8,  3.2,  5.9,  2.3],\n",
       "       [ 6.7,  3.3,  5.7,  2.5],\n",
       "       [ 6.7,  3. ,  5.2,  2.3],\n",
       "       [ 6.3,  2.5,  5. ,  1.9],\n",
       "       [ 6.5,  3. ,  5.2,  2. ],\n",
       "       [ 6.2,  3.4,  5.4,  2.3],\n",
       "       [ 5.9,  3. ,  5.1,  1.8]])"
      ]
     },
     "execution_count": 7,
     "metadata": {},
     "output_type": "execute_result"
    }
   ],
   "source": [
    "data"
   ]
  },
  {
   "cell_type": "code",
   "execution_count": 8,
   "metadata": {
    "collapsed": true
   },
   "outputs": [],
   "source": [
    "ae = Autoencoder(input_dim, hidden_dim)"
   ]
  },
  {
   "cell_type": "code",
   "execution_count": 11,
   "metadata": {
    "collapsed": false
   },
   "outputs": [
    {
     "data": {
      "text/plain": [
       "__main__.Autoencoder"
      ]
     },
     "execution_count": 11,
     "metadata": {},
     "output_type": "execute_result"
    }
   ],
   "source": [
    "type(ae)"
   ]
  },
  {
   "cell_type": "code",
   "execution_count": 12,
   "metadata": {
    "collapsed": false
   },
   "outputs": [
    {
     "name": "stdout",
     "output_type": "stream",
     "text": [
      "epoch 0: loss = 3.7381319999694824\n",
      "epoch 50: loss = 0.3342715799808502\n",
      "epoch 100: loss = 0.29094552993774414\n",
      "epoch 150: loss = 0.24358458817005157\n",
      "epoch 200: loss = 0.2922098934650421\n",
      "epoch 250: loss = 0.22048108279705048\n",
      "epoch 300: loss = 0.1586644947528839\n",
      "epoch 350: loss = 0.23546481132507324\n",
      "epoch 400: loss = 0.2628617286682129\n",
      "epoch 450: loss = 0.20527657866477966\n"
     ]
    }
   ],
   "source": [
    "ae.train(data)"
   ]
  },
  {
   "cell_type": "code",
   "execution_count": 13,
   "metadata": {
    "collapsed": false
   },
   "outputs": [
    {
     "name": "stdout",
     "output_type": "stream",
     "text": [
      "INFO:tensorflow:Restoring parameters from ./model.ckpt\n",
      "input [[8, 4, 6, 2]]\n",
      "compressed [[ 0.72147679]]\n",
      "reconstructed [[ 6.87391996  2.81164718  6.21725368  2.22764206]]\n"
     ]
    },
    {
     "data": {
      "text/plain": [
       "array([[ 6.87391996,  2.81164718,  6.21725368,  2.22764206]], dtype=float32)"
      ]
     },
     "execution_count": 13,
     "metadata": {},
     "output_type": "execute_result"
    }
   ],
   "source": [
    "ae.test([[8, 4, 6, 2]])"
   ]
  },
  {
   "cell_type": "markdown",
   "metadata": {},
   "source": [
    "- train 함수를 실행하면 epoch에서 손실이 감소하는 방식에 대한 디버그 정보가 출력됩니다. 테스트 함수는 인코딩 및 디코딩 프로세스에 대한 정보를 표시합니다.\n",
    "- 4차원 벡터를 단 1차원으로 압축 한 다음 데이터를 약간 손실시킨 채 4 차원 벡터로 다시 디코딩 할 수 있었던 것에 주목하십시오.\n",
    "\n",
    "### 7.3  Batch training\n",
    "\n",
    "- 시간을 두고 압력을 받지 않으면 네트워크를 하나씩 교육하는 것이 가장 안전한 방법입니다. 그러나 네트워크가 원하는 시간보다 오래 걸리면 한 번에 여러 데이터 입력 (배치 교육이라고 함)을 통해 훈련을 받는 것이 해결책입니다.\n",
    "- 일반적으로 배치 크기가 증가하면 알고리즘의 속도는 빨라지지만 성공적으로 수렴할 확률은 낮습니다. 그것은 양날의 칼입니다. 목록 7.6에서 사용하십시오. 나중에 도우미 기능을 사용할 것입니다.\n",
    "\n",
    "- 일괄 학습을 사용하려면 목록 7.3에서 훈련 방법을 수정해야 합니다. 배치 버전은 목록 7.7에 나와있다. 각 데이터 배치에 대해 추가 내부 루프를 삽입합니다. 일반적으로 일괄 처리 반복 횟수는 모든 데이터가 동일한 기간에 적용되도록 충분해야합니다.\n",
    "\n",
    "\n",
    "### 7.4  Working with images\n",
    "\n",
    "- 우리의 autoencoder와 같은 대부분의 신경 네트워크는 1 원 입력만 허용합니다. 한편, 이미지의 픽셀은 행과 열에 의해 인덱싱 됩니다. 또한 픽셀이 컬러 인 경우 그림 7.9에서와 같이 픽셀의 빨강, 녹색 및 파랑 농도에 대한 값을 갖습니다.\n",
    "\n",
    "![7_9](./img/07_09.png)\n",
    "\n",
    "- 더 높은 차원의 이미지를 관리하는 편리한 방법은 두 단계로 구성됩니다.\n",
    "\n",
    "    1. 이미지를 그레이 스케일로 변환 : 빨강, 녹색 및 파랑의 값을 픽셀 값이라고 하는 색 값으로 병합합니다. 이 값은 색상 값의 가중 평균입니다.\n",
    "    2. 이미지를 행 우선 순서로 재정렬하십시오. Row-major order는 배열을 더 긴 단일 차원 집합으로 저장합니다. 여기서는 배열의 모든 차원을 첫 번째 차원의 끝에 배치하고 NumPy에서 잘 지원합니다. 이렇게하면 이미지를 2 대신 1 개의 숫자로 인덱싱 할 수 있습니다. 이미지의 크기가 3 x 3 픽셀이면 그림 7.10의 구조로 다시 정렬됩니다.\n",
    "\n",
    "![7_9](./img/07_10.png)\n",
    "\n",
    "- TensorFlow에서 이미지를 사용하는 방법은 여러 가지가 있습니다. 하드 드라이브에 그림이 있는 경우 TensorFlow와 함께 제공되는 scipy를 사용하여 그림을로드 할 수 있습니다. 목록 7.8의 코드는 이미지를 그레이 스케일로 로드하고, 크기를 변경하며 행 우선 순서로 표현하는 방법을 보여줍니다."
   ]
  },
  {
   "cell_type": "code",
   "execution_count": 58,
   "metadata": {
    "collapsed": true
   },
   "outputs": [],
   "source": [
    "%matplotlib inline\n",
    "from matplotlib import pyplot as plt\n",
    "import pickle\n",
    "import numpy as np\n",
    "from autoencoder import Autoencoder"
   ]
  },
  {
   "cell_type": "markdown",
   "metadata": {},
   "source": [
    "- 데이터를 로드하고 전처리 할 수 있는 도우미 함수를 정의하십시오."
   ]
  },
  {
   "cell_type": "code",
   "execution_count": 59,
   "metadata": {
    "collapsed": true
   },
   "outputs": [],
   "source": [
    "def unpickle(file):\n",
    "    fo = open(file, 'rb')\n",
    "    dict = pickle.load(fo, encoding='latin1')\n",
    "    fo.close()\n",
    "    return dict\n",
    "\n",
    "def grayscale(a):\n",
    "    return a.reshape(a.shape[0], 3, 32, 32).mean(1).reshape(a.shape[0], -1)"
   ]
  },
  {
   "cell_type": "markdown",
   "metadata": {},
   "source": [
    "- CIFAR-10 및 CIFAR-100은 8 천만 개의 작은 이미지 데이터 세트의 하위 세트로 분류됩니다. 그들은 Alex Krizhevsky, Vinod Nair 및 Geoffrey Hinton에 의해 수집되었습니다.\n",
    "\n",
    "- CIFAR-10 데이터 세트는 10 클래스의 60000 개의 32x32 컬러 이미지와 클래스 당 6000 개의 이미지로 구성됩니다. 50000 개의 교육 이미지와 10000 개의 테스트 이미지가 있습니다.\n",
    "\n",
    "- 이 데이터 세트는 5 개의 교육 배치와 1 개의 테스트 배치로 나뉘며, 각 배치에는 10000 개의 이미지가 있습니다. 테스트 배치에는 각 클래스의 무작위로 선택된 이미지가 정확히 1000 개 포함되어 있습니다. 교육 배치에는 남은 이미지가 무작위로 포함되지만 일부 교육 배치에는 한 클래스의 이미지가 다른 것보다 많이 포함될 수 있습니다. 그(것)들 사이에서, 훈련 배치는 각 종류에서 정확하게 5000의 심상을 포함한다. 다음은 데이터 세트의 클래스뿐만 아니라 각각의 10 개의 무작위 이미지입니다.\n",
    "\n",
    "- 이미지 처리는 연구의 활발한 분야이므로, 우리 자신의 제한된 이미지를 사용하는 대신 데이터 세트를 사용할 수 있습니다. 예를 들어 CIFAR-10이라는 데이터 세트가 있습니다.이 데이터 세트에는 크기가 32 x 32 인 60,000 개의 레이블이 지정된 이미지가 들어 있습니다.\n",
    "\n",
    "- https://www.cs.toronto.edu/~kriz/cifar.html에서 python 데이터 세트를 다운로드하십시오. 추출 된 cifar-10-batches-py 폴더를 작업 디렉토리에 놓습니다. 목록 7.9의 코드는 CIFAR 웹 페이지에서 제공됩니다. main_imgs.py라는 새 파일에서 목록을 따라 가십시오."
   ]
  },
  {
   "cell_type": "code",
   "execution_count": 60,
   "metadata": {
    "collapsed": true
   },
   "outputs": [],
   "source": [
    "def reset_graph(seed=42):\n",
    "    tf.reset_default_graph()\n",
    "    tf.set_random_seed(seed)\n",
    "    np.random.seed(seed)"
   ]
  },
  {
   "cell_type": "code",
   "execution_count": 61,
   "metadata": {
    "collapsed": true
   },
   "outputs": [],
   "source": [
    "reset_graph()"
   ]
  },
  {
   "cell_type": "code",
   "execution_count": 62,
   "metadata": {
    "collapsed": true
   },
   "outputs": [],
   "source": [
    "names = unpickle('./cifar-10-batches-py/batches.meta')['label_names']\n",
    "data, labels = [], []"
   ]
  },
  {
   "cell_type": "code",
   "execution_count": 63,
   "metadata": {
    "collapsed": false
   },
   "outputs": [
    {
     "data": {
      "text/plain": [
       "['airplane',\n",
       " 'automobile',\n",
       " 'bird',\n",
       " 'cat',\n",
       " 'deer',\n",
       " 'dog',\n",
       " 'frog',\n",
       " 'horse',\n",
       " 'ship',\n",
       " 'truck']"
      ]
     },
     "execution_count": 63,
     "metadata": {},
     "output_type": "execute_result"
    }
   ],
   "source": [
    "names"
   ]
  },
  {
   "cell_type": "markdown",
   "metadata": {},
   "source": [
    "- 방금 작성한 unpickle 함수를 사용하여 각 데이터 세트 파일을 읽으십시오. CIFAR 데이터 세트에는 6 개의 파일이 있으며 각 파일 앞에는  \"data_batch_\" 접두어가 붙어 있고 그 뒤에 숫자가 옵니다. 각 파일에는 이미지 데이터 및 해당 레이블에 대한 정보가 들어 있습니다. Listing 7.10은 모든 파일을 반복하여 메모리에 추가하는 방법을 보여준다."
   ]
  },
  {
   "cell_type": "code",
   "execution_count": 64,
   "metadata": {
    "collapsed": false
   },
   "outputs": [],
   "source": [
    "for i in range(1, 6):\n",
    "    filename = './cifar-10-batches-py/data_batch_' + str(i)\n",
    "    batch_data = unpickle(filename)\n",
    "    if len(data) > 0:\n",
    "        data = np.vstack((data, batch_data['data']))\n",
    "        labels = np.hstack((labels, batch_data['labels']))\n",
    "    else:\n",
    "        data = batch_data['data']\n",
    "        labels = batch_data['labels']"
   ]
  },
  {
   "cell_type": "code",
   "execution_count": 65,
   "metadata": {
    "collapsed": true
   },
   "outputs": [],
   "source": [
    "data = grayscale(data)"
   ]
  },
  {
   "cell_type": "code",
   "execution_count": 66,
   "metadata": {
    "collapsed": false
   },
   "outputs": [
    {
     "data": {
      "text/plain": [
       "array([[  61.33333333,   44.66666667,   47.        , ...,  180.        ,\n",
       "         117.66666667,   95.66666667],\n",
       "       [ 172.66666667,  133.        ,  101.33333333, ...,  138.33333333,\n",
       "         139.66666667,  140.        ],\n",
       "       [ 255.        ,  253.        ,  253.        , ...,   82.        ,\n",
       "          82.33333333,   83.33333333],\n",
       "       ..., \n",
       "       [ 149.33333333,  151.66666667,  153.        , ...,   52.        ,\n",
       "          43.33333333,   31.        ],\n",
       "       [ 213.33333333,  210.        ,  209.        , ...,  182.66666667,\n",
       "         185.33333333,  185.33333333],\n",
       "       [ 232.33333333,  240.        ,  239.        , ...,  176.33333333,\n",
       "         163.33333333,  162.33333333]])"
      ]
     },
     "execution_count": 66,
     "metadata": {},
     "output_type": "execute_result"
    }
   ],
   "source": [
    "data"
   ]
  },
  {
   "cell_type": "markdown",
   "metadata": {},
   "source": [
    "- 각 이미지는 일련의 빨강 픽셀로 표시되고 녹색 픽셀, 파란색 픽셀이 차례로 표시됩니다. Listing 7.11은 빨간색, 녹색 및 파란색 값을 평균하여 이미지를 그레이 스케일로 변환하는 도우미 함수를 작성한다.\n",
    "\n",
    "- 보다 현실감있는 그레이 스케일을 구현하는 다른 방법이 있지만,이 3 가지 값을 단순히 평균화하는 이 방법은 작업을 완료합니다. 인간의 인식은 녹색 빛에 더 민감하기 때문에 회색 스케일링의 다른 버전에서는 녹색 값이 평균에서 더 높은 가중치를 나타낼 수 있습니다.\n",
    "\n",
    "- 마지막으로, \"말\"과 같은 특정 클래스의 모든 이미지를 수집 합니다. 우리는 목록 7.12에 나와있는 것처럼 모든 말 그림에 대해 자동 인식 프로그램을 실행합니다."
   ]
  },
  {
   "cell_type": "code",
   "execution_count": 67,
   "metadata": {
    "collapsed": true
   },
   "outputs": [],
   "source": [
    "x = np.matrix(data)\n",
    "y = np.array(labels)"
   ]
  },
  {
   "cell_type": "code",
   "execution_count": 68,
   "metadata": {
    "collapsed": false
   },
   "outputs": [
    {
     "data": {
      "text/plain": [
       "(50000, 1024)"
      ]
     },
     "execution_count": 68,
     "metadata": {},
     "output_type": "execute_result"
    }
   ],
   "source": [
    "x.shape"
   ]
  },
  {
   "cell_type": "code",
   "execution_count": 69,
   "metadata": {
    "collapsed": false
   },
   "outputs": [
    {
     "data": {
      "text/plain": [
       "(50000,)"
      ]
     },
     "execution_count": 69,
     "metadata": {},
     "output_type": "execute_result"
    }
   ],
   "source": [
    "y.shape"
   ]
  },
  {
   "cell_type": "code",
   "execution_count": 28,
   "metadata": {
    "collapsed": false
   },
   "outputs": [
    {
     "data": {
      "text/plain": [
       "array([6, 9, 9, ..., 9, 1, 1])"
      ]
     },
     "execution_count": 28,
     "metadata": {},
     "output_type": "execute_result"
    }
   ],
   "source": [
    "y"
   ]
  },
  {
   "cell_type": "markdown",
   "metadata": {},
   "source": [
    "- train the autoencoder on images of horses:"
   ]
  },
  {
   "cell_type": "code",
   "execution_count": 70,
   "metadata": {
    "collapsed": false
   },
   "outputs": [
    {
     "name": "stdout",
     "output_type": "stream",
     "text": [
      "(5000, 1024)\n",
      "Some examples of horse images we will feed to the autoencoder for training\n"
     ]
    }
   ],
   "source": [
    "horse_indices = np.where(y == 7)[0]\n",
    "horse_x = x[horse_indices]\n",
    "print(np.shape(horse_x))  # (5000, 3072)\n",
    "\n",
    "print('Some examples of horse images we will feed to the autoencoder for training')\n",
    "plt.rcParams['figure.figsize'] = (10, 10)\n",
    "num_examples = 5"
   ]
  },
  {
   "cell_type": "code",
   "execution_count": 71,
   "metadata": {
    "collapsed": false
   },
   "outputs": [
    {
     "data": {
      "image/png": "[encoded data removed]",
      "text/plain": [
       "<matplotlib.figure.Figure at 0x117bb09b0>"
      ]
     },
     "metadata": {},
     "output_type": "display_data"
    }
   ],
   "source": [
    "for i in range(num_examples):\n",
    "    horse_img = np.reshape(horse_x[i, :], (32, 32))\n",
    "    plt.subplot(1, num_examples, i+1)\n",
    "    plt.imshow(horse_img, cmap='Greys_r')\n",
    "plt.show()"
   ]
  },
  {
   "cell_type": "markdown",
   "metadata": {},
   "source": [
    "- 이제 훈련 데이터 세트와 비슷한 이미지를 100 개의 숫자로 인코딩 할 수 있습니다. 이 자동 인코딩 모델은 가장 단순한 모델 중 하나이므로 손실이 많은 인코딩이 될 것입니다. 이 코드를 실행하는 데는 최대 10 분이 걸릴 수 있습니다. 출력은 매 10 epoch의 손실 값을 추적합니다."
   ]
  },
  {
   "cell_type": "code",
   "execution_count": 72,
   "metadata": {
    "collapsed": false
   },
   "outputs": [
    {
     "name": "stdout",
     "output_type": "stream",
     "text": [
      "epoch 0: loss = 131.8201446533203\n",
      "epoch 10: loss = 67.32542419433594\n",
      "epoch 20: loss = 60.596168518066406\n",
      "epoch 30: loss = 59.48297882080078\n",
      "epoch 40: loss = 56.588897705078125\n",
      "epoch 50: loss = 54.5894889831543\n",
      "epoch 60: loss = 56.47299575805664\n",
      "epoch 70: loss = 55.099857330322266\n",
      "epoch 80: loss = 53.504241943359375\n",
      "epoch 90: loss = 54.35919952392578\n",
      "epoch 100: loss = 56.298641204833984\n",
      "epoch 110: loss = 51.86058044433594\n",
      "epoch 120: loss = 51.59476852416992\n",
      "epoch 130: loss = 50.329429626464844\n",
      "epoch 140: loss = 51.63497543334961\n",
      "epoch 150: loss = 49.743656158447266\n",
      "epoch 160: loss = 50.132423400878906\n",
      "epoch 170: loss = 50.692237854003906\n",
      "epoch 180: loss = 54.05546951293945\n",
      "epoch 190: loss = 48.91290283203125\n",
      "epoch 200: loss = 54.8426399230957\n",
      "epoch 210: loss = 53.270347595214844\n",
      "epoch 220: loss = 49.5998649597168\n",
      "epoch 230: loss = 46.850242614746094\n",
      "epoch 240: loss = 51.58037185668945\n",
      "epoch 250: loss = 51.18393325805664\n",
      "epoch 260: loss = 51.7280158996582\n",
      "epoch 270: loss = 49.65459442138672\n",
      "epoch 280: loss = 51.12546157836914\n",
      "epoch 290: loss = 50.27619934082031\n",
      "epoch 300: loss = 50.88470458984375\n",
      "epoch 310: loss = 49.520626068115234\n",
      "epoch 320: loss = 49.452762603759766\n",
      "epoch 330: loss = 49.43028259277344\n",
      "epoch 340: loss = 49.000972747802734\n",
      "epoch 350: loss = 48.31773376464844\n",
      "epoch 360: loss = 47.141788482666016\n",
      "epoch 370: loss = 51.013092041015625\n",
      "epoch 380: loss = 48.9976806640625\n",
      "epoch 390: loss = 49.364864349365234\n",
      "epoch 400: loss = 53.975059509277344\n",
      "epoch 410: loss = 48.52234649658203\n",
      "epoch 420: loss = 48.77558898925781\n",
      "epoch 430: loss = 52.305809020996094\n",
      "epoch 440: loss = 47.252017974853516\n",
      "epoch 450: loss = 48.96208572387695\n",
      "epoch 460: loss = 46.57186508178711\n",
      "epoch 470: loss = 49.3536376953125\n",
      "epoch 480: loss = 49.10671615600586\n",
      "epoch 490: loss = 48.077083587646484\n",
      "epoch 500: loss = 51.383419036865234\n",
      "epoch 510: loss = 47.90595626831055\n",
      "epoch 520: loss = 49.895320892333984\n",
      "epoch 530: loss = 51.58387756347656\n",
      "epoch 540: loss = 49.108821868896484\n",
      "epoch 550: loss = 44.61708450317383\n",
      "epoch 560: loss = 48.646568298339844\n",
      "epoch 570: loss = 48.94667434692383\n",
      "epoch 580: loss = 48.677276611328125\n",
      "epoch 590: loss = 49.25251770019531\n",
      "epoch 600: loss = 45.58036804199219\n",
      "epoch 610: loss = 50.88369369506836\n",
      "epoch 620: loss = 47.62187957763672\n",
      "epoch 630: loss = 51.536033630371094\n",
      "epoch 640: loss = 50.02589797973633\n",
      "epoch 650: loss = 47.106746673583984\n",
      "epoch 660: loss = 46.968753814697266\n",
      "epoch 670: loss = 50.55801010131836\n",
      "epoch 680: loss = 46.96432113647461\n",
      "epoch 690: loss = 46.025997161865234\n",
      "epoch 700: loss = 46.1358757019043\n",
      "epoch 710: loss = 47.240074157714844\n",
      "epoch 720: loss = 51.25217819213867\n",
      "epoch 730: loss = 47.189125061035156\n",
      "epoch 740: loss = 47.75834274291992\n",
      "epoch 750: loss = 49.84403991699219\n",
      "epoch 760: loss = 49.25959014892578\n",
      "epoch 770: loss = 45.848628997802734\n",
      "epoch 780: loss = 44.297977447509766\n",
      "epoch 790: loss = 48.00428771972656\n",
      "epoch 800: loss = 50.43559646606445\n",
      "epoch 810: loss = 47.72999572753906\n",
      "epoch 820: loss = 44.56734085083008\n",
      "epoch 830: loss = 47.40655517578125\n",
      "epoch 840: loss = 46.94163513183594\n",
      "epoch 850: loss = 47.455570220947266\n",
      "epoch 860: loss = 48.578941345214844\n",
      "epoch 870: loss = 47.461341857910156\n",
      "epoch 880: loss = 49.34270477294922\n",
      "epoch 890: loss = 49.09897994995117\n",
      "epoch 900: loss = 48.45198440551758\n",
      "epoch 910: loss = 45.7196159362793\n",
      "epoch 920: loss = 48.82268142700195\n",
      "epoch 930: loss = 47.76569366455078\n",
      "epoch 940: loss = 47.609222412109375\n",
      "epoch 950: loss = 49.78892517089844\n",
      "epoch 960: loss = 47.9891357421875\n",
      "epoch 970: loss = 44.83717346191406\n",
      "epoch 980: loss = 45.46054458618164\n",
      "epoch 990: loss = 45.9252815246582\n"
     ]
    }
   ],
   "source": [
    "input_dim = np.shape(horse_x)[1]\n",
    "hidden_dim = 100\n",
    "ae = Autoencoder(input_dim, hidden_dim)\n",
    "ae.train(horse_x)"
   ]
  },
  {
   "cell_type": "code",
   "execution_count": 73,
   "metadata": {
    "collapsed": false
   },
   "outputs": [
    {
     "name": "stdout",
     "output_type": "stream",
     "text": [
      "INFO:tensorflow:Restoring parameters from ./model.ckpt\n",
      "data (10000, 1024)\n",
      "reconstructed (1024,)\n",
      "loss (10000,)\n",
      "horse 63.7581724945\n",
      "not horse 62.4604947268\n"
     ]
    }
   ],
   "source": [
    "test_data = unpickle('./cifar-10-batches-py/test_batch')\n",
    "test_x = grayscale(test_data['data'])\n",
    "test_labels = np.array(test_data['labels'])\n",
    "encodings = ae.classify(test_x, test_labels)"
   ]
  },
  {
   "cell_type": "code",
   "execution_count": 74,
   "metadata": {
    "collapsed": false
   },
   "outputs": [
    {
     "data": {
      "text/plain": [
       "array([[ 106.33333333,  105.66666667,  110.66666667, ...,   75.        ,\n",
       "          82.33333333,   66.        ],\n",
       "       [ 235.        ,  231.        ,  232.        , ...,  176.33333333,\n",
       "         188.66666667,  195.        ],\n",
       "       [ 190.        ,  187.66666667,  166.33333333, ...,    6.33333333,\n",
       "           4.        ,    7.33333333],\n",
       "       ..., \n",
       "       [  15.66666667,   14.66666667,   13.33333333, ...,   32.33333333,\n",
       "          34.        ,   30.66666667],\n",
       "       [  25.66666667,   18.        ,   27.33333333, ...,   99.        ,\n",
       "          99.66666667,   97.33333333],\n",
       "       [  75.33333333,  104.66666667,  106.33333333, ...,  108.33333333,\n",
       "          63.66666667,   26.33333333]])"
      ]
     },
     "execution_count": 74,
     "metadata": {},
     "output_type": "execute_result"
    }
   ],
   "source": [
    "test_x"
   ]
  },
  {
   "cell_type": "code",
   "execution_count": 75,
   "metadata": {
    "collapsed": false
   },
   "outputs": [
    {
     "data": {
      "text/plain": [
       "array([3, 8, 8, ..., 5, 1, 7])"
      ]
     },
     "execution_count": 75,
     "metadata": {},
     "output_type": "execute_result"
    }
   ],
   "source": [
    "test_labels"
   ]
  },
  {
   "cell_type": "code",
   "execution_count": 76,
   "metadata": {
    "collapsed": false
   },
   "outputs": [
    {
     "data": {
      "text/plain": [
       "array([[ 1.,  1.,  1., ...,  1.,  0.,  0.],\n",
       "       [ 1.,  1.,  1., ...,  1.,  0.,  0.],\n",
       "       [ 1.,  1.,  1., ...,  1.,  0.,  0.],\n",
       "       ..., \n",
       "       [ 1.,  1.,  1., ...,  1.,  0.,  0.],\n",
       "       [ 1.,  1.,  1., ...,  1.,  0.,  0.],\n",
       "       [ 1.,  1.,  1., ...,  1.,  0.,  0.]], dtype=float32)"
      ]
     },
     "execution_count": 76,
     "metadata": {},
     "output_type": "execute_result"
    }
   ],
   "source": [
    "encodings"
   ]
  },
  {
   "cell_type": "code",
   "execution_count": null,
   "metadata": {
    "collapsed": false
   },
   "outputs": [
    {
     "name": "stdout",
     "output_type": "stream",
     "text": [
      "INFO:tensorflow:Restoring parameters from ./model.ckpt\n",
      "INFO:tensorflow:Restoring parameters from ./model.ckpt\n",
      "INFO:tensorflow:Restoring parameters from ./model.ckpt\n",
      "INFO:tensorflow:Restoring parameters from ./model.ckpt\n",
      "INFO:tensorflow:Restoring parameters from ./model.ckpt\n",
      "INFO:tensorflow:Restoring parameters from ./model.ckpt\n",
      "INFO:tensorflow:Restoring parameters from ./model.ckpt\n",
      "INFO:tensorflow:Restoring parameters from ./model.ckpt\n",
      "INFO:tensorflow:Restoring parameters from ./model.ckpt\n",
      "INFO:tensorflow:Restoring parameters from ./model.ckpt\n",
      "INFO:tensorflow:Restoring parameters from ./model.ckpt\n",
      "INFO:tensorflow:Restoring parameters from ./model.ckpt\n",
      "INFO:tensorflow:Restoring parameters from ./model.ckpt\n",
      "INFO:tensorflow:Restoring parameters from ./model.ckpt\n",
      "INFO:tensorflow:Restoring parameters from ./model.ckpt\n",
      "INFO:tensorflow:Restoring parameters from ./model.ckpt\n",
      "INFO:tensorflow:Restoring parameters from ./model.ckpt\n",
      "INFO:tensorflow:Restoring parameters from ./model.ckpt\n",
      "INFO:tensorflow:Restoring parameters from ./model.ckpt\n",
      "INFO:tensorflow:Restoring parameters from ./model.ckpt\n"
     ]
    }
   ],
   "source": [
    "plt.rcParams['figure.figsize'] = (100, 100)\n",
    "plt.figure()\n",
    "for i in range(20):\n",
    "    plt.subplot(20, 2, i*2 + 1)\n",
    "    original_img = np.reshape(test_x[i, :], (32, 32))\n",
    "    plt.imshow(original_img, cmap='Greys_r')\n",
    "    \n",
    "    plt.subplot(20, 2, i*2 + 2)\n",
    "    reconstructed_img = ae.decode([encodings[i]])\n",
    "    plt.imshow(reconstructed_img, cmap='Greys_r')\n",
    "\n",
    "plt.show()"
   ]
  },
  {
   "cell_type": "markdown",
   "metadata": {},
   "source": [
    "- 출력의 전체 예는 책의 github를 참조하십시오. https://github.com/BinRoot/TensorFlow-Book/blob/master/ch07_autoencoder/Concept02_autoencoder_with_imgs.ipynb\n",
    "\n",
    "\n",
    "### 7.5 Application of autoencoders\n",
    "- 이 장에서는 가장 간단한 형식의 자동 코드 작성기를 소개했지만 다른 여러 가지 변종을 연구하여 각각의 이점과 응용 프로그램을 제공합니다. 한 쌍을 살펴 봅시다.\n",
    "\n",
    "- stacked autoencoder은 일반 자동 인코딩과 동일한 방식으로 시작됩니다. 재구성 오류를 최소화하여 더 작은 숨겨진 레이어로의 입력 인코딩을 학습합니다. - 숨겨진 레이어는 숨겨진 뉴런의 첫 번째 레이어를 더 작은 레이어 (숨겨진 뉴런의 두 번째 레이어)로 인코딩하려고 하는 새로운 자동 인코딩 프로그램의 입력으로 처리됩니다. 이것은 원하는 대로 계속됩니다. 종종, 학습된 부호화 가중치는 깊은 신경망 구조에서 회귀 또는 분류 문제를 해결하기 위한 초기 값으로 사용됩니다.\n",
    "\n",
    "- denoising autoencoder는 원래 입력 대신에 noised-up 입력을 받고 \"denoise\"하려고 시도합니다. 비용 함수는 더 이상 재구성 오류를 최소화하는 데 사용되지 않습니다. 이제 우리는 노이즈없는 이미지와 원본 이미지 간의 오류를 최소화하려고 노력하고 있습니다. 직관은 우리 인간의 마음이 그것 위에 긁힌 자국이나 표식이 있더라도 여전히 사진을 이해할 수 있다는 것입니다. \n",
    "- 기계가 원본 데이터를 복구하기 위해 잡음이있는 입력을 볼 수도 있는 경우 데이터를 더 잘 이해할 수 있습니다. Denoising 모델은 이미지에서 두드러진 특징을 더 잘 포착하는 것으로 나타났습니다.\n",
    "- variational autoencoder는 숨겨진 변수를 직접 주어 새로운 자연 이미지를 생성 할 수 있습니다. 한 남자의 그림을 100 차원 벡터로 인코딩 한 다음 다른 100 차원 벡터로 그림을 인코딩한다고 가정해 봅시다. 두 벡터의 평균을 취하여 디코더를 통해 실행하고 남자와 여자 사이의 사람을 시각적으로 나타내는 합리적인 이미지를 생성 할 수 있습니다. variational autoencoder의 생성력은 베이지안 네트워크라고 하는 확률 모델의 유형에서 파생됩니다.\n",
    "\n",
    "### 7.6 Summary\n",
    "\n",
    "- 신경망은 선형 모델이 데이터 집합을 설명하는 데 효과적이지 않을 때 유용합니다.\n",
    "- Autoencoders는 입력을 재현하려고 시도하는 감독되지 않은 학습 알고리즘이며, 이렇게 함으로써 데이터에 대한 흥미로운 구조를 나타냅니다.\n",
    "- 이미지는 평평하게하고 회색 음영 처리하여 신경망에 입력으로 쉽게 공급할 수 있습니다."
   ]
  }
 ],
 "metadata": {
  "kernelspec": {
   "display_name": "Python 3",
   "language": "python",
   "name": "python3"
  },
  "language_info": {
   "codemirror_mode": {
    "name": "ipython",
    "version": 3
   },
   "file_extension": ".py",
   "mimetype": "text/x-python",
   "name": "python",
   "nbconvert_exporter": "python",
   "pygments_lexer": "ipython3",
   "version": "3.5.1rc1"
  }
 },
 "nbformat": 4,
 "nbformat_minor": 2
}
